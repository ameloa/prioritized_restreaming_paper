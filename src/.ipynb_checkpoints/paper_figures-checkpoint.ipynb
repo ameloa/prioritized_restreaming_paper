{
 "cells": [
  {
   "cell_type": "markdown",
   "metadata": {},
   "source": [
    "# Prioritized Restreaming Algorithms for Balanced Graph Partitioning"
   ]
  },
  {
   "cell_type": "markdown",
   "metadata": {},
   "source": [
    "#### Amel Awadelkarim"
   ]
  },
  {
   "cell_type": "markdown",
   "metadata": {},
   "source": [
    "This notebook walks through the generation of all plots in the paper for a chosen test network after one trial of each method. Note that all results in the paper were averaged over 10 trials to account for random initializations and variability in tie-breaks."
   ]
  },
  {
   "cell_type": "markdown",
   "metadata": {},
   "source": [
    "## Importing modules"
   ]
  },
  {
   "cell_type": "code",
   "execution_count": 1,
   "metadata": {},
   "outputs": [],
   "source": [
    "%load_ext autoreload\n",
    "\n",
    "# General modules\n",
    "import os\n",
    "import sys\n",
    "import numpy as np\n",
    "from scipy.stats import weightedtau\n",
    "\n",
    "# Methods\n",
    "import readdata\n",
    "from blp import *\n",
    "from shp import *\n",
    "from reldg import *\n",
    "\n",
    "# Plotting\n",
    "%matplotlib inline\n",
    "import matplotlib\n",
    "import matplotlib.pyplot as plt\n",
    "plt.rc('text', usetex=True)\n",
    "import seaborn as sns"
   ]
  },
  {
   "cell_type": "code",
   "execution_count": 2,
   "metadata": {},
   "outputs": [
    {
     "name": "stdout",
     "output_type": "stream",
     "text": [
      "Defaulting to user installation because normal site-packages is not writeable\n",
      "Requirement already satisfied: cvxpy in /home/ameloa/.local/lib/python3.8/site-packages (1.1.1)\n",
      "Requirement already satisfied: ecos>=2 in /home/ameloa/.local/lib/python3.8/site-packages (from cvxpy) (2.0.7.post1)\n",
      "Requirement already satisfied: scipy>=1.1.0 in /share/sw/python3.8/dist-packages (from cvxpy) (1.4.1)\n",
      "Requirement already satisfied: numpy>=1.15 in /share/sw/python3.8/dist-packages (from cvxpy) (1.18.1)\n",
      "Requirement already satisfied: scs>=1.1.3 in /home/ameloa/.local/lib/python3.8/site-packages (from cvxpy) (2.1.2)\n",
      "Requirement already satisfied: osqp>=0.4.1 in /home/ameloa/.local/lib/python3.8/site-packages (from cvxpy) (0.6.1)\n",
      "Requirement already satisfied: future in /share/sw/python3.8/dist-packages (from osqp>=0.4.1->cvxpy) (0.18.2)\n",
      "\u001b[33mWARNING: You are using pip version 20.0.2; however, version 20.1.1 is available.\n",
      "You should consider upgrading via the '/usr/bin/python3 -m pip install --upgrade pip' command.\u001b[0m\n"
     ]
    }
   ],
   "source": [
    "# If cvxpy is not installed, uncomment and execute the following:\n",
    "# !{sys.executable} -m pip install cvxpy"
   ]
  },
  {
   "cell_type": "markdown",
   "metadata": {},
   "source": [
    "## Partitioning and Network Parameters"
   ]
  },
  {
   "cell_type": "code",
   "execution_count": 3,
   "metadata": {},
   "outputs": [],
   "source": [
    "network = 'web-NotreDame'\n",
    "data_directory = '../data/'\n",
    "num_shards = 16\n",
    "num_iterations = 10\n",
    "epsilon = 0.0"
   ]
  },
  {
   "cell_type": "code",
   "execution_count": 4,
   "metadata": {},
   "outputs": [],
   "source": [
    "filename = data_directory + network + '.txt'\n",
    "if not os.path.exists(filename):\n",
    "    print(\"Network not in directory.\")\n",
    "    print(\"Please download the .txt file from SNAP repository (http://snap.stanford.edu/data/index.html) and place in \" + data_directory + \" directory.\")\n",
    "num_edges = 1497134 # hardcoded for now"
   ]
  },
  {
   "cell_type": "code",
   "execution_count": 5,
   "metadata": {},
   "outputs": [],
   "source": [
    "edges_dict = {\n",
    "    'wiki-Vote': 103689, \n",
    "    'email-Enron': 367662, \n",
    "    'soc-Pokec': 30622564,\n",
    "    'com-LiveJournal': 68993773,\n",
    "    'com-Orkut': 117185083, \n",
    "    'web-NotreDame': 1497134, \n",
    "    'web-Stanford': 2312497, \n",
    "    'web-Google': 5105039, \n",
    "    'web-BerkStan': 7600595\n",
    "} # hardcoded for now"
   ]
  },
  {
   "cell_type": "markdown",
   "metadata": {},
   "source": [
    "## Load network"
   ]
  },
  {
   "cell_type": "code",
   "execution_count": 6,
   "metadata": {},
   "outputs": [
    {
     "name": "stdout",
     "output_type": "stream",
     "text": [
      "Reading edge list in to memory... Done.\n",
      "Network:  web-NotreDame\n",
      "Average degree:  6.777631098244246\n"
     ]
    }
   ],
   "source": [
    "print('Reading edge list in to memory...', end =\" \")\n",
    "neighbors_map, num_nodes, node_indices, edges = readdata.get_clean_data(data_directory, network, num_edges, shuffle=False)\n",
    "print('Done.')"
   ]
  },
  {
   "cell_type": "code",
   "execution_count": null,
   "metadata": {},
   "outputs": [],
   "source": [
    "if not os.path.exists(data_directory + network + '_edges.txt'):\n",
    "    np.savetxt(data_directory + network + '_edges.txt', edges.astype(np.int32))\n",
    "degrees = np.array([len(neighbor_list) for neighbor_list in neighbors_map])\n",
    "if not os.path.exists(data_directory + network + '_degrees.txt'):\n",
    "    np.savetxt(data_directory + network + '_degrees.txt', degrees.astype(np.int32))\n",
    "print('Network: ', network)\n",
    "print('Average degree: ', float(sum(degrees))/num_nodes)"
   ]
  },
  {
   "cell_type": "code",
   "execution_count": 8,
   "metadata": {},
   "outputs": [],
   "source": [
    "initialization_file = data_directory + network + '_' + str(num_shards) + 'shards_init.txt'\n",
    "if os.path.exists(initialization_file):\n",
    "    initialization = np.loadtxt(initialization_file).astype(np.int32)\n",
    "else:\n",
    "    initialization = None"
   ]
  },
  {
   "cell_type": "markdown",
   "metadata": {},
   "source": [
    "## Running methods"
   ]
  },
  {
   "cell_type": "markdown",
   "metadata": {},
   "source": [
    "### Balanced Label Propagation"
   ]
  },
  {
   "cell_type": "code",
   "execution_count": 9,
   "metadata": {},
   "outputs": [
    {
     "name": "stdout",
     "output_type": "stream",
     "text": [
      "Loading or generating random initialization...\n",
      "Initializing structures for collecting periodicity data...\n",
      "Beginning BLP...\n",
      "0: Internal edge fraction =  0.31017076366904306\n",
      "1: Internal edge fraction =  0.4634590027227789\n",
      "2: Internal edge fraction =  0.5102612662846955\n",
      "3: Internal edge fraction =  0.5412024708391785\n",
      "4: Internal edge fraction =  0.5550577962024232\n",
      "5: Internal edge fraction =  0.5731528837403762\n",
      "6: Internal edge fraction =  0.583135349424801\n",
      "7: Internal edge fraction =  0.5928170456558065\n",
      "8: Internal edge fraction =  0.5927092397372615\n",
      "9: Internal edge fraction =  0.5980614865167863\n"
     ]
    }
   ],
   "source": [
    "initialization, blpEdgeFracs, _, blpPeriodicity = blp(num_nodes, \n",
    "                                                      neighbors_map, \n",
    "                                                      num_shards, \n",
    "                                                      num_iterations, \n",
    "                                                      epsilon, \n",
    "                                                      return_periodicity = True,\n",
    "                                                      initialization = initialization)"
   ]
  },
  {
   "cell_type": "code",
   "execution_count": 10,
   "metadata": {},
   "outputs": [],
   "source": [
    "if not os.path.exists(initialization_file):\n",
    "    np.savetxt(initialization_file, initialization)"
   ]
  },
  {
   "cell_type": "code",
   "execution_count": 12,
   "metadata": {},
   "outputs": [
    {
     "data": {
      "text/plain": [
       "<matplotlib.legend.Legend at 0x7f2f96f9bb50>"
      ]
     },
     "execution_count": 12,
     "metadata": {},
     "output_type": "execute_result"
    },
    {
     "data": {
      "image/png": "[encoded data removed]",
      "text/plain": [
       "<Figure size 432x288 with 1 Axes>"
      ]
     },
     "metadata": {
      "needs_background": "light"
     },
     "output_type": "display_data"
    }
   ],
   "source": [
    "fig, ax = plt.subplots()\n",
    "ax.plot(blpEdgeFracs, marker = '.', label = 'BLP')\n",
    "# ax.set_xlim((-1,num_iterations+0.5))\n",
    "ax.set_ylim((0.0,1.0))\n",
    "ax.set_ylabel('Internal Edge Fraction')\n",
    "ax.set_xlabel('Iteration')\n",
    "ax.legend()"
   ]
  },
  {
   "cell_type": "markdown",
   "metadata": {},
   "source": [
    "### Social Hash"
   ]
  },
  {
   "cell_type": "code",
   "execution_count": 13,
   "metadata": {},
   "outputs": [
    {
     "name": "stdout",
     "output_type": "stream",
     "text": [
      "Loading or generating random initialization...\n",
      "Beginning SHP, version I...\n",
      "0: Internal edge fraction =  0.28769821227891296\n",
      "1: Internal edge fraction =  0.46274331637277477\n",
      "2: Internal edge fraction =  0.5578299483935786\n",
      "3: Internal edge fraction =  0.6203184260698266\n",
      "4: Internal edge fraction =  0.6638783586865977\n",
      "5: Internal edge fraction =  0.6962871732246335\n",
      "6: Internal edge fraction =  0.7216650488229451\n",
      "7: Internal edge fraction =  0.7442109807122529\n",
      "8: Internal edge fraction =  0.7622009801279267\n",
      "9: Internal edge fraction =  0.7765926172876303\n"
     ]
    }
   ],
   "source": [
    "shpIEdgeFracs, _ = shp(num_nodes, \n",
    "                       neighbors_map,\n",
    "                       num_shards,\n",
    "                       num_iterations,\n",
    "                       initialization = np.loadtxt(initialization_file).astype(np.int32),\n",
    "                       version = 'I')"
   ]
  },
  {
   "cell_type": "code",
   "execution_count": 14,
   "metadata": {},
   "outputs": [
    {
     "name": "stdout",
     "output_type": "stream",
     "text": [
      "Loading or generating random initialization...\n",
      "Beginning SHP, version II...\n",
      "0: Internal edge fraction =  0.28867933673088064\n",
      "1: Internal edge fraction =  0.4546778029878546\n",
      "2: Internal edge fraction =  0.5223255639087527\n",
      "3: Internal edge fraction =  0.5638299366164614\n",
      "4: Internal edge fraction =  0.5899416172065494\n",
      "5: Internal edge fraction =  0.6120726321992724\n",
      "6: Internal edge fraction =  0.6244829958811797\n",
      "7: Internal edge fraction =  0.6350805894537728\n",
      "8: Internal edge fraction =  0.6396510168408246\n",
      "9: Internal edge fraction =  0.6452687017223128\n"
     ]
    }
   ],
   "source": [
    "shpIIEdgeFracs, _ = shp(num_nodes, \n",
    "                        neighbors_map,\n",
    "                        num_shards,\n",
    "                        num_iterations,\n",
    "                        initialization = np.loadtxt(initialization_file).astype(np.int32),\n",
    "                        version = 'II')"
   ]
  },
  {
   "cell_type": "code",
   "execution_count": 15,
   "metadata": {},
   "outputs": [
    {
     "name": "stdout",
     "output_type": "stream",
     "text": [
      "Loading or generating random initialization...\n",
      "Initializing structures for collecting periodicity data...\n",
      "Beginning SHP, version KL...\n",
      "0: Internal edge fraction =  0.27692577381321765\n",
      "1: Internal edge fraction =  0.43878594228940815\n",
      "2: Internal edge fraction =  0.505163586422071\n",
      "3: Internal edge fraction =  0.5522358177463943\n",
      "4: Internal edge fraction =  0.5758453139077335\n",
      "5: Internal edge fraction =  0.5936523150415075\n",
      "6: Internal edge fraction =  0.6062746668321503\n",
      "7: Internal edge fraction =  0.6157353156335341\n",
      "8: Internal edge fraction =  0.6229247926887657\n",
      "9: Internal edge fraction =  0.6282154360862646\n"
     ]
    }
   ],
   "source": [
    "klshpEdgeFracs, klshpPeriodicity = shp(num_nodes, \n",
    "                                       neighbors_map,\n",
    "                                       num_shards,\n",
    "                                       num_iterations,\n",
    "                                       return_periodicity = True,\n",
    "                                       initialization = np.loadtxt(initialization_file).astype(np.int32),\n",
    "                                       version = 'KL')"
   ]
  },
  {
   "cell_type": "code",
   "execution_count": 16,
   "metadata": {},
   "outputs": [
    {
     "data": {
      "image/png": "[encoded data removed]",
      "text/plain": [
       "<Figure size 432x288 with 1 Axes>"
      ]
     },
     "execution_count": 16,
     "metadata": {},
     "output_type": "execute_result"
    }
   ],
   "source": [
    "ax.plot(klshpEdgeFracs, marker = '.', label = 'KLSHP')\n",
    "ax.legend()\n",
    "fig"
   ]
  },
  {
   "cell_type": "markdown",
   "metadata": {},
   "source": [
    "### Restreaming LDG"
   ]
  },
  {
   "cell_type": "code",
   "execution_count": 18,
   "metadata": {},
   "outputs": [
    {
     "name": "stdout",
     "output_type": "stream",
     "text": [
      "Initializing structures for collecting periodicity data...\n",
      "Beginning reLDG, version random...\n",
      "0: Internal edge fraction =  0.6922104788258758\n",
      "1: Internal edge fraction =  0.860723812560839\n",
      "2: Internal edge fraction =  0.8713277476580523\n",
      "3: Internal edge fraction =  0.8747766311194014\n",
      "4: Internal edge fraction =  0.8762523944917517\n",
      "5: Internal edge fraction =  0.876764246121818\n",
      "6: Internal edge fraction =  0.877094005402073\n",
      "7: Internal edge fraction =  0.877419235021885\n",
      "8: Internal edge fraction =  0.877908438349736\n",
      "9: Internal edge fraction =  0.8779754773242934\n"
     ]
    }
   ],
   "source": [
    "reldgEdgeFracs, _, reldgPeriodicity = reldg(num_nodes, \n",
    "                                            edges, \n",
    "                                            node_indices, \n",
    "                                            neighbors_map, \n",
    "                                            num_shards, \n",
    "                                            num_iterations, \n",
    "                                            epsilon, \n",
    "                                            return_periodicity=True,\n",
    "                                            version = 'random')"
   ]
  },
  {
   "cell_type": "code",
   "execution_count": 19,
   "metadata": {},
   "outputs": [
    {
     "data": {
      "image/png": "[encoded data removed]",
      "text/plain": [
       "<Figure size 432x288 with 1 Axes>"
      ]
     },
     "execution_count": 19,
     "metadata": {},
     "output_type": "execute_result"
    }
   ],
   "source": [
    "ax.plot(np.arange(1, num_iterations + 1), reldgEdgeFracs, marker = '.', label = 'reLDG')\n",
    "ax.legend()\n",
    "fig"
   ]
  },
  {
   "cell_type": "code",
   "execution_count": 20,
   "metadata": {},
   "outputs": [],
   "source": [
    "bfs_order, _ = bfs_disconnected(data_directory, network, num_nodes, neighbors_map, degrees)"
   ]
  },
  {
   "cell_type": "code",
   "execution_count": 21,
   "metadata": {},
   "outputs": [
    {
     "name": "stdout",
     "output_type": "stream",
     "text": [
      "Beginning reLDG, version bfs...\n",
      "0: Internal edge fraction =  0.8144786972334193\n",
      "1: Internal edge fraction =  0.8916967247384234\n",
      "2: Internal edge fraction =  0.9141756176531739\n",
      "3: Internal edge fraction =  0.9220209895405611\n",
      "4: Internal edge fraction =  0.9261248619019773\n",
      "5: Internal edge fraction =  0.9293083072613628\n",
      "6: Internal edge fraction =  0.9301924969798488\n",
      "7: Internal edge fraction =  0.9305285977847243\n",
      "8: Internal edge fraction =  0.9306717350547251\n",
      "9: Internal edge fraction =  0.9306971011532063\n"
     ]
    }
   ],
   "source": [
    "reldgBFSEdgeFracs, _, _ = reldg(num_nodes, \n",
    "                                edges, \n",
    "                                node_indices, \n",
    "                                neighbors_map, \n",
    "                                num_shards, \n",
    "                                num_iterations, \n",
    "                                epsilon,\n",
    "                                version = 'bfs',\n",
    "                                bfs_order = bfs_order)"
   ]
  },
  {
   "cell_type": "markdown",
   "metadata": {},
   "source": [
    "#### Prioritized Restreaming"
   ]
  },
  {
   "cell_type": "code",
   "execution_count": 37,
   "metadata": {},
   "outputs": [],
   "source": [
    "%autoreload"
   ]
  },
  {
   "cell_type": "code",
   "execution_count": 38,
   "metadata": {},
   "outputs": [],
   "source": [
    "ccs = compute_clustering_coefficients(data_directory, network, num_nodes, neighbors_map)"
   ]
  },
  {
   "cell_type": "code",
   "execution_count": 40,
   "metadata": {},
   "outputs": [
    {
     "name": "stdout",
     "output_type": "stream",
     "text": [
      "Stream order:  cc\n",
      "Computing static stream order, or first stream of dynamic order...\n",
      "Beginning reLDG...\n",
      "0: Internal edge fraction =  0.570951468765047\n",
      "1: Internal edge fraction =  0.8148347285442441\n",
      "2: Internal edge fraction =  0.8521518831383843\n",
      "3: Internal edge fraction =  0.8618381090298328\n",
      "4: Internal edge fraction =  0.8646401569799124\n",
      "5: Internal edge fraction =  0.8659283924099198\n",
      "6: Internal edge fraction =  0.8667337660366966\n",
      "7: Internal edge fraction =  0.8669838032931537\n",
      "8: Internal edge fraction =  0.8670870795512556\n",
      "9: Internal edge fraction =  0.8672193456361931\n"
     ]
    }
   ],
   "source": [
    "reldgCCEdgeFracs, _, _ = reldg(num_nodes, \n",
    "                                edges, \n",
    "                                node_indices, \n",
    "                                neighbors_map, \n",
    "                                num_shards, \n",
    "                                num_iterations, \n",
    "                                epsilon,\n",
    "                                version = 'cc',\n",
    "                                ccs = ccs)"
   ]
  },
  {
   "cell_type": "code",
   "execution_count": 34,
   "metadata": {},
   "outputs": [
    {
     "name": "stdout",
     "output_type": "stream",
     "text": [
      "Beginning reLDG, version degree...\n",
      "0: Internal edge fraction =  0.7883289674956097\n",
      "1: Internal edge fraction =  0.8858154136191488\n",
      "2: Internal edge fraction =  0.8980590857967514\n",
      "3: Internal edge fraction =  0.9024664454078529\n",
      "4: Internal edge fraction =  0.9037936359176707\n",
      "5: Internal edge fraction =  0.9046071629332451\n",
      "6: Internal edge fraction =  0.9049360162814115\n",
      "7: Internal edge fraction =  0.9052259145497676\n",
      "8: Internal edge fraction =  0.9055855695889469\n",
      "9: Internal edge fraction =  0.905678880594074\n"
     ]
    }
   ],
   "source": [
    "reldgDegEdgeFracs, _, _ = reldg(num_nodes, \n",
    "                                edges, \n",
    "                                node_indices, \n",
    "                                neighbors_map, \n",
    "                                num_shards, \n",
    "                                num_iterations, \n",
    "                                epsilon,\n",
    "                                version = 'degree')"
   ]
  },
  {
   "cell_type": "code",
   "execution_count": 35,
   "metadata": {},
   "outputs": [
    {
     "name": "stdout",
     "output_type": "stream",
     "text": [
      "Beginning reLDG, version ambivalence...\n",
      "0: Internal edge fraction =  0.7946143243264056\n",
      "1: Internal edge fraction =  0.86955936822108\n",
      "2: Internal edge fraction =  0.8999914389417626\n",
      "3: Internal edge fraction =  0.9098697224359971\n",
      "4: Internal edge fraction =  0.9149728378911531\n",
      "5: Internal edge fraction =  0.9189707161982016\n",
      "6: Internal edge fraction =  0.9200496813157395\n",
      "7: Internal edge fraction =  0.9213062091226455\n",
      "8: Internal edge fraction =  0.921578894681318\n",
      "9: Internal edge fraction =  0.9220653802129031\n"
     ]
    }
   ],
   "source": [
    "reldgAEdgeFracs, reldgAOrders, _ = reldg(num_nodes, \n",
    "                                         edges, \n",
    "                                         node_indices, \n",
    "                                         neighbors_map, \n",
    "                                         num_shards, \n",
    "                                         num_iterations, \n",
    "                                         epsilon,\n",
    "                                         return_orders = True,\n",
    "                                         version = 'ambivalence')"
   ]
  },
  {
   "cell_type": "code",
   "execution_count": 36,
   "metadata": {},
   "outputs": [
    {
     "data": {
      "image/png": "[encoded data removed]",
      "text/plain": [
       "<Figure size 432x288 with 1 Axes>"
      ]
     },
     "execution_count": 36,
     "metadata": {},
     "output_type": "execute_result"
    }
   ],
   "source": [
    "ax.plot(np.arange(1, num_iterations + 1), reldgAEdgeFracs, marker = '.', label = 'reLDG-a')\n",
    "ax.legend()\n",
    "fig"
   ]
  },
  {
   "cell_type": "code",
   "execution_count": 42,
   "metadata": {},
   "outputs": [
    {
     "name": "stdout",
     "output_type": "stream",
     "text": [
      "Stream order:  gain\n",
      "Computing static stream order, or first stream of dynamic order...\n",
      "Beginning reLDG...\n",
      "0: Internal edge fraction =  0.7921991093781637\n",
      "1: Internal edge fraction =  0.8154969649010201\n",
      "2: Internal edge fraction =  0.8361830182124057\n",
      "3: Internal edge fraction =  0.8428080995764314\n",
      "4: Internal edge fraction =  0.8522714661740812\n",
      "5: Internal edge fraction =  0.8584888780982312\n",
      "6: Internal edge fraction =  0.8615980370263504\n",
      "7: Internal edge fraction =  0.8663505567632134\n",
      "8: Internal edge fraction =  0.8678534980982221\n",
      "9: Internal edge fraction =  0.871405657817673\n"
     ]
    }
   ],
   "source": [
    "reldgGainEdgeFracs, reldgGainOrders, _ = reldg(num_nodes, \n",
    "                                               edges, \n",
    "                                               node_indices, \n",
    "                                               neighbors_map, \n",
    "                                               num_shards, \n",
    "                                               num_iterations, \n",
    "                                               epsilon,\n",
    "                                               return_orders = True,\n",
    "                                               version = 'gain')"
   ]
  },
  {
   "cell_type": "markdown",
   "metadata": {},
   "source": [
    "## Partition Quality"
   ]
  },
  {
   "cell_type": "markdown",
   "metadata": {},
   "source": [
    "Generates one row of Table 2 in the paper (after only 1 trial)."
   ]
  },
  {
   "cell_type": "code",
   "execution_count": 17,
   "metadata": {},
   "outputs": [
    {
     "ename": "NameError",
     "evalue": "name 'shpIEdgeFracs' is not defined",
     "output_type": "error",
     "traceback": [
      "\u001b[0;31m---------------------------------------------------------------------------\u001b[0m",
      "\u001b[0;31mNameError\u001b[0m                                 Traceback (most recent call last)",
      "\u001b[0;32m<ipython-input-17-dc3ceb2fae4d>\u001b[0m in \u001b[0;36m<module>\u001b[0;34m\u001b[0m\n\u001b[0;32m----> 1\u001b[0;31m \u001b[0mfracs\u001b[0m \u001b[0;34m=\u001b[0m \u001b[0;34m[\u001b[0m\u001b[0mshpIEdgeFracs\u001b[0m\u001b[0;34m[\u001b[0m\u001b[0;34m-\u001b[0m\u001b[0;36m1\u001b[0m\u001b[0;34m]\u001b[0m\u001b[0;34m,\u001b[0m \u001b[0mshpIIEdgeFracs\u001b[0m\u001b[0;34m[\u001b[0m\u001b[0;34m-\u001b[0m\u001b[0;36m1\u001b[0m\u001b[0;34m]\u001b[0m\u001b[0;34m,\u001b[0m \u001b[0mklshpEdgeFracs\u001b[0m\u001b[0;34m[\u001b[0m\u001b[0;34m-\u001b[0m\u001b[0;36m1\u001b[0m\u001b[0;34m]\u001b[0m\u001b[0;34m,\u001b[0m \u001b[0mblpEdgeFracs\u001b[0m\u001b[0;34m[\u001b[0m\u001b[0;34m-\u001b[0m\u001b[0;36m1\u001b[0m\u001b[0;34m]\u001b[0m\u001b[0;34m,\u001b[0m \u001b[0mreldgEdgeFracs\u001b[0m\u001b[0;34m[\u001b[0m\u001b[0;34m-\u001b[0m\u001b[0;36m1\u001b[0m\u001b[0;34m]\u001b[0m\u001b[0;34m,\u001b[0m \u001b[0mreldgBFSEdgeFracs\u001b[0m\u001b[0;34m[\u001b[0m\u001b[0;34m-\u001b[0m\u001b[0;36m1\u001b[0m\u001b[0;34m]\u001b[0m\u001b[0;34m,\u001b[0m \u001b[0mreldgCCEdgeFracs\u001b[0m\u001b[0;34m[\u001b[0m\u001b[0;34m-\u001b[0m\u001b[0;36m1\u001b[0m\u001b[0;34m]\u001b[0m\u001b[0;34m,\u001b[0m \u001b[0mreldgDegEdgeFracs\u001b[0m\u001b[0;34m[\u001b[0m\u001b[0;34m-\u001b[0m\u001b[0;36m1\u001b[0m\u001b[0;34m]\u001b[0m\u001b[0;34m,\u001b[0m \u001b[0mreldgGainEdgeFracs\u001b[0m\u001b[0;34m[\u001b[0m\u001b[0;34m-\u001b[0m\u001b[0;36m1\u001b[0m\u001b[0;34m]\u001b[0m\u001b[0;34m,\u001b[0m \u001b[0mreldgAEdgeFracs\u001b[0m\u001b[0;34m[\u001b[0m\u001b[0;34m-\u001b[0m\u001b[0;36m1\u001b[0m\u001b[0;34m]\u001b[0m\u001b[0;34m]\u001b[0m\u001b[0;34m\u001b[0m\u001b[0;34m\u001b[0m\u001b[0m\n\u001b[0m\u001b[1;32m      2\u001b[0m \u001b[0mprint\u001b[0m\u001b[0;34m(\u001b[0m\u001b[0;34m\"{: <13} {: ^7} {: ^7} {: ^7} {: ^7} | {: ^8} {: ^10} {: ^9} {: ^10} | {: ^8} {: ^8}\"\u001b[0m\u001b[0;34m.\u001b[0m\u001b[0mformat\u001b[0m\u001b[0;34m(\u001b[0m\u001b[0;34m''\u001b[0m\u001b[0;34m,\u001b[0m \u001b[0;34m'shp-I'\u001b[0m\u001b[0;34m,\u001b[0m \u001b[0;34m'shp-II'\u001b[0m\u001b[0;34m,\u001b[0m \u001b[0;34m'kl-shp'\u001b[0m\u001b[0;34m,\u001b[0m \u001b[0;34m'blp'\u001b[0m\u001b[0;34m,\u001b[0m \u001b[0;34m'reldg'\u001b[0m\u001b[0;34m,\u001b[0m \u001b[0;34m'reldg-bfs'\u001b[0m\u001b[0;34m,\u001b[0m \u001b[0;34m'reldg-cc'\u001b[0m\u001b[0;34m,\u001b[0m \u001b[0;34m'reldg-deg'\u001b[0m\u001b[0;34m,\u001b[0m \u001b[0;34m'reldg-g'\u001b[0m\u001b[0;34m,\u001b[0m \u001b[0;34m'reldg-a'\u001b[0m\u001b[0;34m)\u001b[0m\u001b[0;34m)\u001b[0m\u001b[0;34m\u001b[0m\u001b[0;34m\u001b[0m\u001b[0m\n\u001b[1;32m      3\u001b[0m \u001b[0mprint\u001b[0m\u001b[0;34m(\u001b[0m\u001b[0;34m'{: <13} {: ^7.3f} {: ^7.3f} {: ^7.3f} {: ^7.3f} | {: ^8.3f} {: ^10.3f} {: ^9.3f} {: ^10.3f} | {: ^8.3f} {: ^8.3f}'\u001b[0m\u001b[0;34m.\u001b[0m\u001b[0mformat\u001b[0m\u001b[0;34m(\u001b[0m\u001b[0mnetwork\u001b[0m\u001b[0;34m,\u001b[0m \u001b[0;34m*\u001b[0m\u001b[0mfracs\u001b[0m\u001b[0;34m)\u001b[0m\u001b[0;34m)\u001b[0m\u001b[0;34m\u001b[0m\u001b[0;34m\u001b[0m\u001b[0m\n",
      "\u001b[0;31mNameError\u001b[0m: name 'shpIEdgeFracs' is not defined"
     ]
    }
   ],
   "source": [
    "fracs = [shpIEdgeFracs[-1], shpIIEdgeFracs[-1], klshpEdgeFracs[-1], blpEdgeFracs[-1], reldgEdgeFracs[-1], reldgBFSEdgeFracs[-1], reldgCCEdgeFracs[-1], reldgDegEdgeFracs[-1], reldgGainEdgeFracs[-1], reldgAEdgeFracs[-1]]\n",
    "print(\"{: <13} {: ^7} {: ^7} {: ^7} {: ^7} | {: ^8} {: ^10} {: ^9} {: ^10} | {: ^8} {: ^8}\".format('', 'shp-I', 'shp-II', 'kl-shp', 'blp', 'reldg', 'reldg-bfs', 'reldg-cc', 'reldg-deg', 'reldg-g', 'reldg-a'))\n",
    "print('{: <13} {: ^7.3f} {: ^7.3f} {: ^7.3f} {: ^7.3f} | {: ^8.3f} {: ^10.3f} {: ^9.3f} {: ^10.3f} | {: ^8.3f} {: ^8.3f}'.format(network, *fracs))"
   ]
  },
  {
   "cell_type": "markdown",
   "metadata": {},
   "source": [
    "## Plots"
   ]
  },
  {
   "cell_type": "markdown",
   "metadata": {},
   "source": [
    "### Period plots"
   ]
  },
  {
   "cell_type": "code",
   "execution_count": 57,
   "metadata": {},
   "outputs": [
    {
     "data": {
      "image/png": "[encoded data removed]",
      "text/plain": [
       "<Figure size 936x288 with 3 Axes>"
      ]
     },
     "metadata": {
      "needs_background": "light"
     },
     "output_type": "display_data"
    }
   ],
   "source": [
    "periodicities = [blpPeriodicity, klshpPeriodicity, reldgPeriodicity]\n",
    "titles = ['BLP', 'KLSHP', 'reLDG']\n",
    "period_data = []\n",
    "for data in periodicities:\n",
    "    new_row = np.sum(data[3:, :], axis=0) # sum periods >3\n",
    "    data = np.concatenate((data[0:3,:], [new_row]), axis=0)\n",
    "    data /= np.sum(data, axis=0)[None,:] # normalize\n",
    "    y = data.tolist()\n",
    "    y.append(y[0]) # put period 0 nodes at the end (for plot legend)\n",
    "    period_data.append(y)\n",
    "\n",
    "fig, ax = plt.subplots(1, 3, figsize = (13, 4), sharey=True)\n",
    "x = range(1, num_iterations+1)\n",
    "for i, title in enumerate(titles):\n",
    "    ax[i].grid(linestyle=':', color='grey')\n",
    "    ax[i].stackplot(x, period_data[i][1:], labels=['period 1', 'period 2', 'period $\\geq 3$', 'new'])\n",
    "    ax[i].set_title(title)\n",
    "    ax[i].set_xticks([1,2,3,4,5,6,7,8,9,10])\n",
    "    ax[i].set_xlabel('Iteration')\n",
    "    if i==0:\n",
    "        ax[i].set_ylabel('Nodes at period')\n",
    "    if i==1:\n",
    "        # Put a legend below current axis\n",
    "        ax[i].legend(loc='upper center', bbox_to_anchor=(0.5, -0.2), ncol=4)"
   ]
  },
  {
   "cell_type": "markdown",
   "metadata": {},
   "source": [
    "### Internal edge fraction vs incumbency parameter"
   ]
  },
  {
   "cell_type": "code",
   "execution_count": 13,
   "metadata": {},
   "outputs": [],
   "source": [
    "# Shell script to run each method with c=[-10,10]\n",
    "if not os.path.exists('../results/web-NotreDame_c_finalFrac.txt'):\n",
    "    !bash incumbency.sh web-NotreDame"
   ]
  },
  {
   "cell_type": "code",
   "execution_count": 14,
   "metadata": {},
   "outputs": [],
   "source": [
    "data = np.loadtxt('../results/web-NotreDame_c_finalFrac.txt')"
   ]
  },
  {
   "cell_type": "code",
   "execution_count": 21,
   "metadata": {},
   "outputs": [
    {
     "data": {
      "text/plain": [
       "[<matplotlib.axis.XTick at 0x7f6ed87d64f0>,\n",
       " <matplotlib.axis.XTick at 0x7f6ed87d64c0>,\n",
       " <matplotlib.axis.XTick at 0x7f6ed87dfcd0>]"
      ]
     },
     "execution_count": 21,
     "metadata": {},
     "output_type": "execute_result"
    },
    {
     "data": {
      "image/png": "[encoded data removed]",
      "text/plain": [
       "<Figure size 432x288 with 1 Axes>"
      ]
     },
     "metadata": {
      "needs_background": "light"
     },
     "output_type": "display_data"
    }
   ],
   "source": [
    "fig = plt.figure()\n",
    "ax = fig.add_subplot(111)\n",
    "ax.scatter(np.array(data)[:,0], np.array(data)[:,1], marker='.', label='BLP')\n",
    "ax.scatter(np.array(data)[:,0], np.array(data)[:,2], marker='.', label='KL-SHP')\n",
    "ax.scatter(np.array(data)[:,0], np.array(data)[:,3], marker='.', label='reLDG')\n",
    "ax.set_title('web-NotreDame')\n",
    "ax.set_xlabel(r'Gain threshold, $c$')\n",
    "ax.set_ylabel('Final internal edge fraction')\n",
    "ax.set_ylim((0.0,1.0))\n",
    "ax.set_xticks([-10, 0, 10])"
   ]
  },
  {
   "cell_type": "markdown",
   "metadata": {},
   "source": [
    "### Rank correlation matrix of stream orders"
   ]
  },
  {
   "cell_type": "code",
   "execution_count": 45,
   "metadata": {},
   "outputs": [],
   "source": [
    "data = [ccs, bfs_order, degrees]\n",
    "assert(len(reldgAOrders) == 2)\n",
    "assert(len(reldgGainOrders) == 2)\n",
    "data.extend(reldgAOrders)\n",
    "data.extend(reldgGainOrders)\n",
    "labels = ['CC', 'BFS', 'Deg', 'Amb-2', 'Amb-10', 'Gain-2', 'Gain-10']\n",
    "\n",
    "orders = []\n",
    "orders.append(data[0])\n",
    "orders.append(-np.argsort(data[1]))\n",
    "orders.append(data[2])\n",
    "orders.append(-data[3])\n",
    "orders.append(-data[4])\n",
    "orders.append(data[5])\n",
    "orders.append(data[6])"
   ]
  },
  {
   "cell_type": "code",
   "execution_count": 47,
   "metadata": {},
   "outputs": [
    {
     "name": "stdout",
     "output_type": "stream",
     "text": [
      "Computing kendall tau correlations... Done.\n"
     ]
    }
   ],
   "source": [
    "# Computing kendall tau correlations\n",
    "taus = np.zeros((len(orders), len(orders)))\n",
    "for i in range(len(orders)):\n",
    "    for j in range(i+1):\n",
    "        tau = weightedtau(orders[i], orders[j])[0]\n",
    "        taus[i,j] = tau\n",
    "        if i != j:\n",
    "            taus[j,i] = tau\n",
    "print(\"Done.\")"
   ]
  },
  {
   "cell_type": "code",
   "execution_count": 58,
   "metadata": {},
   "outputs": [
    {
     "name": "stdout",
     "output_type": "stream",
     "text": [
      "Plotting kendall tau heat map...\n"
     ]
    },
    {
     "data": {
      "text/plain": [
       "Text(0.5, 1, 'web-NotreDame')"
      ]
     },
     "execution_count": 58,
     "metadata": {},
     "output_type": "execute_result"
    },
    {
     "data": {
      "image/png": "[encoded data removed]",
      "text/plain": [
       "<Figure size 432x288 with 1 Axes>"
      ]
     },
     "metadata": {
      "needs_background": "light"
     },
     "output_type": "display_data"
    }
   ],
   "source": [
    "# Plotting kendall tau heat map\n",
    "fig = plt.figure()\n",
    "ax = sns.heatmap(taus, annot=True, square=True, xticklabels=labels, yticklabels=labels, cbar=False, center=0.0)\n",
    "ax.tick_params(axis='both', which='major')\n",
    "ax.set_xticks(np.arange(len(labels))+0.5)\n",
    "ax.set_yticks(np.arange(len(labels))+0.5)\n",
    "ax.set_title(network)"
   ]
  },
  {
   "cell_type": "code",
   "execution_count": null,
   "metadata": {},
   "outputs": [],
   "source": []
  }
 ],
 "metadata": {
  "kernelspec": {
   "display_name": "Python 3",
   "language": "python",
   "name": "python3"
  },
  "language_info": {
   "codemirror_mode": {
    "name": "ipython",
    "version": 3
   },
   "file_extension": ".py",
   "mimetype": "text/x-python",
   "name": "python",
   "nbconvert_exporter": "python",
   "pygments_lexer": "ipython3",
   "version": "3.8.1"
  }
 },
 "nbformat": 4,
 "nbformat_minor": 4
}
