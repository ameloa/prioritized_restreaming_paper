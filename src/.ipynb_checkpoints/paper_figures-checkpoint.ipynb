{
 "cells": [
  {
   "cell_type": "markdown",
   "metadata": {},
   "source": [
    "# Prioritized Restreaming Algorithms for Balanced Graph Partitioning"
   ]
  },
  {
   "cell_type": "markdown",
   "metadata": {},
   "source": [
    "This notebook walks through the generation of all plots in the paper for a chosen test network after one trial of each method. Note that all results in the paper were averaged over 10 trials to account for random initializations and variability in tie-breaks."
   ]
  },
  {
   "cell_type": "markdown",
   "metadata": {},
   "source": [
    "## Importing modules"
   ]
  },
  {
   "cell_type": "code",
   "execution_count": 2,
   "metadata": {},
   "outputs": [],
   "source": [
    "# General modules\n",
    "import os\n",
    "import sys\n",
    "import numpy as np\n",
    "from scipy.stats import weightedtau\n",
    "\n",
    "# Methods\n",
    "import readdata\n",
    "from blp import *\n",
    "from shp import *\n",
    "from reldg import *\n",
    "\n",
    "# Plotting\n",
    "%matplotlib inline\n",
    "import matplotlib\n",
    "import matplotlib.pyplot as plt\n",
    "plt.rc('text', usetex=True)\n",
    "import seaborn as sns"
   ]
  },
  {
   "cell_type": "code",
   "execution_count": 3,
   "metadata": {},
   "outputs": [],
   "source": [
    "# If cvxpy is not installed, uncomment and execute the following:\n",
    "# !{sys.executable} -m pip install cvxpy"
   ]
  },
  {
   "cell_type": "markdown",
   "metadata": {},
   "source": [
    "## Partitioning and Network Parameters"
   ]
  },
  {
   "cell_type": "code",
   "execution_count": 4,
   "metadata": {},
   "outputs": [],
   "source": [
    "network = 'web-NotreDame'\n",
    "data_directory = '../data/'\n",
    "num_shards = 16\n",
    "num_iterations = 10\n",
    "epsilon = 0.0"
   ]
  },
  {
   "cell_type": "code",
   "execution_count": 5,
   "metadata": {},
   "outputs": [],
   "source": [
    "filename = data_directory + network + '.txt'\n",
    "if not os.path.exists(filename):\n",
    "    print(\"Network not in directory.\")\n",
    "    print(\"Please download the .txt file from SNAP repository (http://snap.stanford.edu/data/index.html) and place in \" + data_directory + \" directory.\")\n",
    "num_edges = 1497134 # hardcoded for now"
   ]
  },
  {
   "cell_type": "code",
   "execution_count": 6,
   "metadata": {},
   "outputs": [],
   "source": [
    "edges_dict = {\n",
    "    'wiki-Vote': 103689, \n",
    "    'email-Enron': 367662, \n",
    "    'soc-Pokec': 30622564,\n",
    "    'com-LiveJournal': 68993773,\n",
    "    'com-Orkut': 117185083, \n",
    "    'web-NotreDame': 1497134, \n",
    "    'web-Stanford': 2312497, \n",
    "    'web-Google': 5105039, \n",
    "    'web-BerkStan': 7600595\n",
    "} # hardcoded for now"
   ]
  },
  {
   "cell_type": "markdown",
   "metadata": {},
   "source": [
    "## Load network"
   ]
  },
  {
   "cell_type": "markdown",
   "metadata": {},
   "source": [
    "All networks taken from the Stanford SNAP respository."
   ]
  },
  {
   "cell_type": "code",
   "execution_count": 18,
   "metadata": {},
   "outputs": [
    {
     "name": "stdout",
     "output_type": "stream",
     "text": [
      "Network:  web-NotreDame\n",
      "Reading edge list in to memory...\n",
      "Done.\n",
      "Average degree:  6.777631098244246\n"
     ]
    }
   ],
   "source": [
    "print('Network: ', network)\n",
    "print('Reading edge list in to memory...')\n",
    "neighbors_map, num_nodes, node_indices, edges = readdata.get_clean_data(filename, num_edges, shuffle=False)\n",
    "print('Done.')\n",
    "if not os.path.exists(data_directory + network + '_edges.txt'):\n",
    "    np.savetxt(data_directory + network + '_edges.txt', edges.astype(np.int32))\n",
    "degrees = np.array([len(neighbor_list) for neighbor_list in neighbors_map])\n",
    "if not os.path.exists(data_directory + network + '_degrees.txt'):\n",
    "    np.savetxt(data_directory + network + '_degrees.txt', degrees.astype(np.int32))\n",
    "print('Average degree: ', float(sum(degrees))/num_nodes)"
   ]
  },
  {
   "cell_type": "code",
   "execution_count": 9,
   "metadata": {},
   "outputs": [],
   "source": [
    "initialization_file = data_directory + network + '_' + str(num_shards) + 'shards_init.txt'\n",
    "if os.path.exists(initialization_file):\n",
    "    initialization = np.loadtxt(initialization_file).astype(np.int32)\n",
    "else:\n",
    "    initialization = None"
   ]
  },
  {
   "cell_type": "markdown",
   "metadata": {},
   "source": [
    "## Running methods"
   ]
  },
  {
   "cell_type": "markdown",
   "metadata": {},
   "source": [
    "### Balanced Label Propagation"
   ]
  },
  {
   "cell_type": "code",
   "execution_count": 10,
   "metadata": {},
   "outputs": [
    {
     "name": "stdout",
     "output_type": "stream",
     "text": [
      "Loading or generating random initialization...\n",
      "Initializing structures for collecting periodicity data...\n",
      "Beginning BLP...\n",
      "0: Internal edge fraction =  0.31035829161138595\n",
      "1: Internal edge fraction =  0.4637905738672112\n",
      "2: Internal edge fraction =  0.5098635620977945\n",
      "3: Internal edge fraction =  0.5417460300923462\n",
      "4: Internal edge fraction =  0.5554718071669194\n",
      "5: Internal edge fraction =  0.5743659268070288\n",
      "6: Internal edge fraction =  0.584476128915948\n",
      "7: Internal edge fraction =  0.593061647319732\n",
      "8: Internal edge fraction =  0.5941351768447382\n",
      "9: Internal edge fraction =  0.598172010231597\n"
     ]
    }
   ],
   "source": [
    "initialization, blpEdgeFracs, _, blpPeriodicity = blp(num_nodes, \n",
    "                                                        neighbors_map, \n",
    "                                                        num_shards, \n",
    "                                                        num_iterations, \n",
    "                                                        epsilon, \n",
    "                                                        return_periodicity = True,\n",
    "                                                        initialization = initialization)"
   ]
  },
  {
   "cell_type": "code",
   "execution_count": 11,
   "metadata": {},
   "outputs": [],
   "source": [
    "if not os.path.exists(initialization_file):\n",
    "    np.savetxt(initialization_file, initialization)"
   ]
  },
  {
   "cell_type": "code",
   "execution_count": 12,
   "metadata": {},
   "outputs": [
    {
     "data": {
      "text/plain": [
       "<matplotlib.legend.Legend at 0x7fe99610e280>"
      ]
     },
     "execution_count": 12,
     "metadata": {},
     "output_type": "execute_result"
    },
    {
     "data": {
      "image/png": "[encoded data removed]",
      "text/plain": [
       "<Figure size 432x288 with 1 Axes>"
      ]
     },
     "metadata": {
      "needs_background": "light"
     },
     "output_type": "display_data"
    }
   ],
   "source": [
    "fig, ax = plt.subplots()\n",
    "ax.plot(blpEdgeFracs, marker = '.', label = 'BLP')\n",
    "ax.set_xlim((-1,num_iterations+0.5))\n",
    "ax.set_ylim((0.0,1.0))\n",
    "ax.set_ylabel('Internal Edge Fraction')\n",
    "ax.set_xlabel('Iteration')\n",
    "ax.legend()"
   ]
  },
  {
   "cell_type": "markdown",
   "metadata": {},
   "source": [
    "### Social Hash"
   ]
  },
  {
   "cell_type": "code",
   "execution_count": 11,
   "metadata": {},
   "outputs": [
    {
     "name": "stdout",
     "output_type": "stream",
     "text": [
      "Loading or generating random initialization...\n",
      "Beginning SHP, version I...\n",
      "0: Internal edge fraction =  0.29318272514337507\n",
      "1: Internal edge fraction =  0.46762447846622074\n",
      "2: Internal edge fraction =  0.561036947987268\n",
      "3: Internal edge fraction =  0.6233043782338945\n",
      "4: Internal edge fraction =  0.6722482652532918\n",
      "5: Internal edge fraction =  0.7082391352697027\n",
      "6: Internal edge fraction =  0.7353554945460623\n",
      "7: Internal edge fraction =  0.7549843251100368\n",
      "8: Internal edge fraction =  0.7691911521236634\n",
      "9: Internal edge fraction =  0.7810008828308204\n"
     ]
    }
   ],
   "source": [
    "shpIEdgeFracs, _, _ = shp(num_nodes, \n",
    "                            neighbors_map,\n",
    "                            num_shards,\n",
    "                            num_iterations,\n",
    "                            initialization = np.loadtxt(initialization_file).astype(np.int32),\n",
    "                            version = 'I')"
   ]
  },
  {
   "cell_type": "code",
   "execution_count": 12,
   "metadata": {},
   "outputs": [
    {
     "name": "stdout",
     "output_type": "stream",
     "text": [
      "Loading or generating random initialization...\n",
      "Beginning SHP, version II...\n",
      "0: Internal edge fraction =  0.30041206321050556\n",
      "1: Internal edge fraction =  0.4597899777638969\n",
      "2: Internal edge fraction =  0.5210481996638086\n",
      "3: Internal edge fraction =  0.5632836595670279\n",
      "4: Internal edge fraction =  0.5978966068766587\n",
      "5: Internal edge fraction =  0.6123589067392741\n",
      "6: Internal edge fraction =  0.6298624206233628\n",
      "7: Internal edge fraction =  0.6321517110112874\n",
      "8: Internal edge fraction =  0.643014742685844\n",
      "9: Internal edge fraction =  0.6487973072074598\n"
     ]
    }
   ],
   "source": [
    "shpIIEdgeFracs, _, _ = shp(num_nodes, \n",
    "                            neighbors_map,\n",
    "                            num_shards,\n",
    "                            num_iterations,\n",
    "                            initialization = np.loadtxt(initialization_file).astype(np.int32),\n",
    "                            version = 'II')"
   ]
  },
  {
   "cell_type": "code",
   "execution_count": 13,
   "metadata": {},
   "outputs": [
    {
     "name": "stdout",
     "output_type": "stream",
     "text": [
      "Loading or generating random initialization...\n",
      "Initializing structures for collecting periodicity data...\n",
      "Beginning SHP, version KL...\n",
      "0: Internal edge fraction =  0.29052200259911914\n",
      "1: Internal edge fraction =  0.43894266854073816\n",
      "2: Internal edge fraction =  0.4973499221577853\n",
      "3: Internal edge fraction =  0.5349596928165474\n",
      "4: Internal edge fraction =  0.5650610983248863\n",
      "5: Internal edge fraction =  0.5809973496956747\n",
      "6: Internal edge fraction =  0.598710133892233\n",
      "7: Internal edge fraction =  0.6038331798533386\n",
      "8: Internal edge fraction =  0.6169356756509462\n",
      "9: Internal edge fraction =  0.6191180660524145\n"
     ]
    }
   ],
   "source": [
    "klshpEdgeFracs, _, klshpPeriodicity = shp(num_nodes, \n",
    "                                            neighbors_map,\n",
    "                                            num_shards,\n",
    "                                            num_iterations,\n",
    "                                            return_periodicity = True,\n",
    "                                            initialization = np.loadtxt(initialization_file).astype(np.int32),\n",
    "                                            version = 'KL')"
   ]
  },
  {
   "cell_type": "code",
   "execution_count": null,
   "metadata": {},
   "outputs": [],
   "source": [
    "ax.plot(klshpEdgeFracs, marker = '.', label = 'KLSHP')\n",
    "ax.legend()\n",
    "fig"
   ]
  },
  {
   "cell_type": "markdown",
   "metadata": {},
   "source": [
    "### Restreaming LDG"
   ]
  },
  {
   "cell_type": "code",
   "execution_count": 14,
   "metadata": {},
   "outputs": [
    {
     "name": "stdout",
     "output_type": "stream",
     "text": [
      "Initializing structures for collecting periodicity data...\n",
      "Beginning reLDG, version random...\n",
      "0: Internal edge fraction =  0.6799713363087163\n",
      "1: Internal edge fraction =  0.8578791858025947\n",
      "2: Internal edge fraction =  0.873661428718319\n",
      "3: Internal edge fraction =  0.8791912381872118\n",
      "4: Internal edge fraction =  0.8823185157571033\n",
      "5: Internal edge fraction =  0.8827977538319794\n",
      "6: Internal edge fraction =  0.8833494664739447\n",
      "7: Internal edge fraction =  0.8838404816659728\n",
      "8: Internal edge fraction =  0.8839229214860367\n",
      "9: Internal edge fraction =  0.8839464757203406\n"
     ]
    }
   ],
   "source": [
    "reldgEdgeFracs, _, _, reldgPeriodicity = reldg(num_nodes, \n",
    "                                            edges, \n",
    "                                            node_indices, \n",
    "                                            neighbors_map, \n",
    "                                            num_shards, \n",
    "                                            num_iterations, \n",
    "                                            epsilon, \n",
    "                                            return_periodicity=True,\n",
    "                                            version = 'random')"
   ]
  },
  {
   "cell_type": "code",
   "execution_count": 15,
   "metadata": {},
   "outputs": [
    {
     "data": {
      "image/png": "[encoded data removed]",
      "text/plain": [
       "<Figure size 432x288 with 1 Axes>"
      ]
     },
     "execution_count": 15,
     "metadata": {},
     "output_type": "execute_result"
    }
   ],
   "source": [
    "ax.plot(np.arange(1, num_iterations + 1), reldgEdgeFracs, marker = '.', label = 'reLDG')\n",
    "ax.legend()\n",
    "fig"
   ]
  },
  {
   "cell_type": "code",
   "execution_count": 22,
   "metadata": {},
   "outputs": [],
   "source": [
    "bfs_order, _ = bfs_disconnected(data_directory, network, num_nodes, neighbors_map, degrees)"
   ]
  },
  {
   "cell_type": "code",
   "execution_count": 23,
   "metadata": {},
   "outputs": [
    {
     "name": "stdout",
     "output_type": "stream",
     "text": [
      "Beginning reLDG, version bfs...\n",
      "0: Internal edge fraction =  0.8144786972334193\n",
      "1: Internal edge fraction =  0.8916967247384234\n",
      "2: Internal edge fraction =  0.9141756176531739\n",
      "3: Internal edge fraction =  0.9220209895405611\n",
      "4: Internal edge fraction =  0.9261248619019773\n",
      "5: Internal edge fraction =  0.9293083072613628\n",
      "6: Internal edge fraction =  0.9301924969798488\n",
      "7: Internal edge fraction =  0.9305285977847243\n",
      "8: Internal edge fraction =  0.9306717350547251\n",
      "9: Internal edge fraction =  0.9306971011532063\n"
     ]
    }
   ],
   "source": [
    "reldgBFSEdgeFracs, _, _, _ = reldg(num_nodes, \n",
    "                                edges, \n",
    "                                node_indices, \n",
    "                                neighbors_map, \n",
    "                                num_shards, \n",
    "                                num_iterations, \n",
    "                                epsilon,\n",
    "                                version = 'bfs',\n",
    "                                bfs_order = bfs_order)"
   ]
  },
  {
   "cell_type": "markdown",
   "metadata": {},
   "source": [
    "#### Prioritized Restreaming"
   ]
  },
  {
   "cell_type": "code",
   "execution_count": null,
   "metadata": {},
   "outputs": [],
   "source": [
    "ccs = compute_clustering_coefficients(data_directory, network, num_nodes, neighbors_map)"
   ]
  },
  {
   "cell_type": "code",
   "execution_count": null,
   "metadata": {},
   "outputs": [],
   "source": [
    "reldgCCEdgeFracs, _, _, _ = reldg(num_nodes, \n",
    "                                edges, \n",
    "                                node_indices, \n",
    "                                neighbors_map, \n",
    "                                num_shards, \n",
    "                                num_iterations, \n",
    "                                epsilon,\n",
    "                                version = 'cc',\n",
    "                                ccs = ccs)"
   ]
  },
  {
   "cell_type": "code",
   "execution_count": null,
   "metadata": {},
   "outputs": [],
   "source": [
    "reldgDegEdgeFracs, _, _ = reldg(num_nodes, \n",
    "                                edges, \n",
    "                                node_indices, \n",
    "                                neighbors_map, \n",
    "                                num_shards, \n",
    "                                num_iterations, \n",
    "                                epsilon,\n",
    "                                version = 'degree')"
   ]
  },
  {
   "cell_type": "code",
   "execution_count": 24,
   "metadata": {},
   "outputs": [
    {
     "name": "stdout",
     "output_type": "stream",
     "text": [
      "Beginning reLDG, version ambivalence...\n",
      "0: Internal edge fraction =  0.7591697313594281\n",
      "1: Internal edge fraction =  0.8603913354843181\n",
      "2: Internal edge fraction =  0.8884072853246702\n",
      "3: Internal edge fraction =  0.8979775519087763\n",
      "4: Internal edge fraction =  0.9030018512722231\n",
      "5: Internal edge fraction =  0.9063827898269262\n",
      "6: Internal edge fraction =  0.9068783346793974\n",
      "7: Internal edge fraction =  0.9088043462997883\n",
      "8: Internal edge fraction =  0.9088813505273204\n",
      "9: Internal edge fraction =  0.9106243638658116\n"
     ]
    }
   ],
   "source": [
    "reldgAEdgeFracs, _, reldgAOrders, _ = reldg(num_nodes, \n",
    "                                            edges, \n",
    "                                            node_indices, \n",
    "                                            neighbors_map, \n",
    "                                            num_shards, \n",
    "                                            num_iterations, \n",
    "                                            epsilon,\n",
    "                                            return_orders = True,\n",
    "                                            version = 'ambivalence')"
   ]
  },
  {
   "cell_type": "code",
   "execution_count": null,
   "metadata": {},
   "outputs": [],
   "source": [
    "ax.plot(np.arange(1, num_iterations + 1), reldgAEdgeFracs, marker = '.', label = 'reLDG-a')\n",
    "ax.legend()\n",
    "fig"
   ]
  },
  {
   "cell_type": "code",
   "execution_count": null,
   "metadata": {},
   "outputs": [],
   "source": [
    "reldgGainEdgeFracs, _, reldgGainOrders, _ = reldg(num_nodes, \n",
    "                                                    edges, \n",
    "                                                    node_indices, \n",
    "                                                    neighbors_map, \n",
    "                                                    num_shards, \n",
    "                                                    num_iterations, \n",
    "                                                    epsilon,\n",
    "                                                    return_orders = True,\n",
    "                                                    version = 'gain')"
   ]
  },
  {
   "cell_type": "markdown",
   "metadata": {},
   "source": [
    "## Results table"
   ]
  },
  {
   "cell_type": "markdown",
   "metadata": {},
   "source": [
    "Generates one row of Table 2 in the paper (not averaged over 10 trials)."
   ]
  },
  {
   "cell_type": "code",
   "execution_count": null,
   "metadata": {},
   "outputs": [],
   "source": [
    "fracs = [shpIEdgeFracs[-1], shpIIEdgeFracs[-1], klshpEdgeFracs[-1], blpEdgeFracs[-1], reldgEdgeFracs[-1], reldgBFSEdgeFracs[-1], reldgCCEdgeFracs[-1], reldgDegEdgeFracs[-1], reldgGainEdgeFracs[-1], reldgAEdgeFracs[-1]]\n",
    "print(\"{: <16} {: ^6} {: ^7} {: ^7} {: ^5} {: ^6} {: ^10} {: ^9} {: ^10} {: ^8}  {: ^8}\".format('', 'shp-I', 'shp-II', 'kl-shp', 'blp', 'reldg', 'reldg-bfs', 'reldg-cc', 'reldg-deg', 'reldg-g', 'reldg-a'))\n",
    "print('{: <16} {: ^6.3f} {: ^7.3f} {: ^7.3f} {: ^5.3f} {: ^6.3f} {: ^10.3f} {: ^9.3f} {: ^10.3f} {: ^8.3f} {: ^8.3f}'.format(network, *fracs))"
   ]
  },
  {
   "cell_type": "markdown",
   "metadata": {},
   "source": [
    "## Plots"
   ]
  },
  {
   "cell_type": "markdown",
   "metadata": {},
   "source": [
    "### Period plots"
   ]
  },
  {
   "cell_type": "code",
   "execution_count": 54,
   "metadata": {},
   "outputs": [
    {
     "data": {
      "image/png": "[encoded data removed]",
      "text/plain": [
       "<Figure size 936x288 with 3 Axes>"
      ]
     },
     "metadata": {
      "needs_background": "light"
     },
     "output_type": "display_data"
    }
   ],
   "source": [
    "periodicities = [blpPeriodicity, klshpPeriodicity, reldgPeriodicity]\n",
    "titles = ['BLP', 'KLSHP', 'reLDG']\n",
    "period_data = []\n",
    "for data in periodicities:\n",
    "    new_row = np.sum(data[3:, :], axis=0) # sum periods >3\n",
    "    data = np.concatenate((data[0:3,:], [new_row]), axis=0)\n",
    "    data /= np.sum(data, axis=0)[None,:] # normalize\n",
    "    y = data.tolist()\n",
    "    y.append(y[0]) # put period 0 nodes at the end (for plot legend)\n",
    "    period_data.append(y)\n",
    "\n",
    "fig, ax = plt.subplots(1, 3, figsize = (13, 4), sharey=True)\n",
    "x = range(1, num_iterations+1)\n",
    "for i, title in enumerate(titles):\n",
    "    ax[i].grid(linestyle=':', color='grey')\n",
    "    ax[i].stackplot(x, period_data[i][1:], labels=['period 1', 'period 2', 'period $\\geq 3$', 'new'])\n",
    "    ax[i].set_title(title)\n",
    "    ax[i].set_xticks([1,2,3,4,5,6,7,8,9,10])\n",
    "    ax[i].set_xlabel('Iteration')\n",
    "    if i==0:\n",
    "        ax[i].set_ylabel('Nodes at period')\n",
    "    if i==1:\n",
    "        # Put a legend below current axis\n",
    "        ax[i].legend(loc='upper center', bbox_to_anchor=(0.5, -0.2),\n",
    "          fancybox=True, shadow=True, ncol=4)"
   ]
  },
  {
   "cell_type": "markdown",
   "metadata": {},
   "source": [
    "### Internal edge fraction vs incumbency parameter"
   ]
  },
  {
   "cell_type": "markdown",
   "metadata": {},
   "source": [
    "Note for Johan: These plots required running each method with c = [-10,10]. Each method for the purposes of this notebook has c-parameter functionality, but the iterations are not multi-threaded."
   ]
  },
  {
   "cell_type": "markdown",
   "metadata": {},
   "source": [
    "### Rank correlation matrix of stream orders"
   ]
  },
  {
   "cell_type": "code",
   "execution_count": null,
   "metadata": {},
   "outputs": [],
   "source": [
    "orders = [ccs, -np.argsort(bfs_order)]\n",
    "labels = ['CC', 'BFS', 'Deg', 'Amb-2', 'Amb-10', 'Gain-2', 'Gain-10']\n",
    "orders.append(np.repeat((data[0]).reshape(1,data[0].size), data[1].shape[0], axis=0))\n",
    "orders.append(-np.argsort(data[1]))\n",
    "orders.append(np.repeat((data[2]).reshape(1,data[2].size), data[1].shape[0], axis=0))\n",
    "orders.append(-data[3][:,1,:])\n",
    "orders.append(-data[3][:,-1,:])\n",
    "orders.append(data[4][:,1,:])\n",
    "orders.append(data[4][:,-1,:])"
   ]
  },
  {
   "cell_type": "code",
   "execution_count": null,
   "metadata": {},
   "outputs": [],
   "source": [
    "print('Computing kendall tau correlations...')\n",
    "taus = np.zeros((len(orders), len(orders)))\n",
    "for t in range(orders[0].shape[0]):\n",
    "    for i in range(len(orders)):\n",
    "        for j in range(i+1):\n",
    "            tau = weightedtau(orders[i][t], orders[j][t])[0]\n",
    "            taus[i,j] += tau\n",
    "            if i != j:\n",
    "                taus[j,i] += tau\n",
    "taus /= orders[0].shape[0]"
   ]
  },
  {
   "cell_type": "code",
   "execution_count": null,
   "metadata": {},
   "outputs": [],
   "source": [
    "print('Plotting kendall tau heat map.')\n",
    "fig = plt.figure(figsize=(4.5,4.5))\n",
    "ax = sns.heatmap(taus, annot=True, square=True, annot_kws={\"size\": 10}, xticklabels=order_names, yticklabels=order_names, cbar=False, center=0.0)\n",
    "ax.tick_params(axis='both', which='major', labelsize=9)\n",
    "ax.set_xticks(np.arange(len(order_names))+0.5)\n",
    "ax.set_yticks(np.arange(len(order_names))+0.75)\n",
    "ax.set_title(r'\\texttt{notredame}', fontsize='large')"
   ]
  }
 ],
 "metadata": {
  "kernelspec": {
   "display_name": "Python 3",
   "language": "python",
   "name": "python3"
  },
  "language_info": {
   "codemirror_mode": {
    "name": "ipython",
    "version": 3
   },
   "file_extension": ".py",
   "mimetype": "text/x-python",
   "name": "python",
   "nbconvert_exporter": "python",
   "pygments_lexer": "ipython3",
   "version": "3.8.1"
  }
 },
 "nbformat": 4,
 "nbformat_minor": 4
}
