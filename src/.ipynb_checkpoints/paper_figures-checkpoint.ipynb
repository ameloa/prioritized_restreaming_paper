{
 "cells": [
  {
   "cell_type": "markdown",
   "metadata": {},
   "source": [
    "# Prioritized Restreaming Algorithms for Balanced Graph Partitioning"
   ]
  },
  {
   "cell_type": "markdown",
   "metadata": {},
   "source": [
    "#### Amel Awadelkarim"
   ]
  },
  {
   "cell_type": "markdown",
   "metadata": {},
   "source": [
    "This notebook walks through the generation of all plots in the paper for a chosen test network after one trial of each method. Note that all results in the paper were averaged over 10 trials to account for random initializations and variability in tie-breaks."
   ]
  },
  {
   "cell_type": "markdown",
   "metadata": {},
   "source": [
    "## Importing modules"
   ]
  },
  {
   "cell_type": "code",
   "execution_count": 1,
   "metadata": {},
   "outputs": [],
   "source": [
    "%load_ext autoreload\n",
    "\n",
    "# General modules\n",
    "import os\n",
    "import sys\n",
    "import numpy as np\n",
    "from scipy.stats import weightedtau\n",
    "\n",
    "# Methods\n",
    "import readdata\n",
    "from blp import *\n",
    "from shp import *\n",
    "from reldg import *\n",
    "\n",
    "# Plotting\n",
    "%matplotlib inline\n",
    "import matplotlib\n",
    "import matplotlib.pyplot as plt\n",
    "plt.rc('text', usetex=True)\n",
    "import seaborn as sns"
   ]
  },
  {
   "cell_type": "code",
   "execution_count": 2,
   "metadata": {},
   "outputs": [],
   "source": [
    "# If cvxpy is not installed, uncomment and execute the following:\n",
    "# !{sys.executable} -m pip install cvxpy"
   ]
  },
  {
   "cell_type": "markdown",
   "metadata": {},
   "source": [
    "## Partitioning and Network Parameters"
   ]
  },
  {
   "cell_type": "code",
   "execution_count": 3,
   "metadata": {},
   "outputs": [],
   "source": [
    "network = 'web-NotreDame'\n",
    "data_directory = '../data/'\n",
    "num_shards = 16\n",
    "num_iterations = 10\n",
    "epsilon = 0.0"
   ]
  },
  {
   "cell_type": "code",
   "execution_count": 4,
   "metadata": {},
   "outputs": [],
   "source": [
    "filename = data_directory + network + '.txt'\n",
    "if not os.path.exists(filename):\n",
    "    print(\"Network not in directory.\")\n",
    "    print(\"Please download the .txt file from SNAP repository (http://snap.stanford.edu/data/index.html) and place in \" + data_directory + \" directory.\")\n",
    "num_edges = 1497134 # hardcoded for now"
   ]
  },
  {
   "cell_type": "code",
   "execution_count": 5,
   "metadata": {},
   "outputs": [],
   "source": [
    "edges_dict = {\n",
    "    'wiki-Vote': 103689, \n",
    "    'email-Enron': 367662, \n",
    "    'soc-Pokec': 30622564,\n",
    "    'com-LiveJournal': 68993773,\n",
    "    'com-Orkut': 117185083, \n",
    "    'web-NotreDame': 1497134, \n",
    "    'web-Stanford': 2312497, \n",
    "    'web-Google': 5105039, \n",
    "    'web-BerkStan': 7600595\n",
    "} # hardcoded for now"
   ]
  },
  {
   "cell_type": "markdown",
   "metadata": {},
   "source": [
    "## Load network"
   ]
  },
  {
   "cell_type": "code",
   "execution_count": 12,
   "metadata": {},
   "outputs": [],
   "source": [
    "%autoreload"
   ]
  },
  {
   "cell_type": "code",
   "execution_count": 13,
   "metadata": {},
   "outputs": [
    {
     "name": "stdout",
     "output_type": "stream",
     "text": [
      "Reading edge list in to memory... Done.\n"
     ]
    }
   ],
   "source": [
    "print('Reading edge list in to memory...', end =\" \")\n",
    "neighbors_map, num_nodes, node_indices, edges = readdata.get_clean_data(data_directory, network, num_edges, shuffle=False)\n",
    "print('Done.')"
   ]
  },
  {
   "cell_type": "code",
   "execution_count": 14,
   "metadata": {},
   "outputs": [
    {
     "name": "stdout",
     "output_type": "stream",
     "text": [
      "Network:  web-NotreDame\n",
      "Average degree:  6.777631098244246\n"
     ]
    }
   ],
   "source": [
    "if not os.path.exists(data_directory + network + '_edges.txt'):\n",
    "    np.savetxt(data_directory + network + '_edges.txt', edges.astype(np.int32))\n",
    "degrees = np.array([len(neighbor_list) for neighbor_list in neighbors_map])\n",
    "if not os.path.exists(data_directory + network + '_degrees.txt'):\n",
    "    np.savetxt(data_directory + network + '_degrees.txt', degrees.astype(np.int32))\n",
    "print('Network: ', network)\n",
    "print('Average degree: ', float(sum(degrees))/num_nodes)"
   ]
  },
  {
   "cell_type": "code",
   "execution_count": 15,
   "metadata": {},
   "outputs": [],
   "source": [
    "initialization_file = data_directory + network + '_' + str(num_shards) + 'shards_init.txt'\n",
    "if os.path.exists(initialization_file):\n",
    "    initialization = np.loadtxt(initialization_file).astype(np.int32)\n",
    "else:\n",
    "    initialization = None"
   ]
  },
  {
   "cell_type": "markdown",
   "metadata": {},
   "source": [
    "## Running methods"
   ]
  },
  {
   "cell_type": "markdown",
   "metadata": {},
   "source": [
    "### Balanced Label Propagation"
   ]
  },
  {
   "cell_type": "code",
   "execution_count": 17,
   "metadata": {},
   "outputs": [
    {
     "name": "stdout",
     "output_type": "stream",
     "text": [
      "Loading or generating random initialization...\n",
      "Initializing structures for collecting periodicity data...\n",
      "Beginning BLP...\n",
      "0: Internal edge fraction =  0.3097929899880915\n",
      "1: Internal edge fraction =  0.42806695381694104\n",
      "2: Internal edge fraction =  0.4826620452051053\n",
      "3: Internal edge fraction =  0.5127471439358492\n",
      "4: Internal edge fraction =  0.5353184419236381\n",
      "5: Internal edge fraction =  0.5459876041312315\n",
      "6: Internal edge fraction =  0.5563795511197094\n",
      "7: Internal edge fraction =  0.5604354090804291\n",
      "8: Internal edge fraction =  0.5690789071378842\n",
      "9: Internal edge fraction =  0.5714696619197335\n"
     ]
    }
   ],
   "source": [
    "initialization, blpEdgeFracs, blpPeriodicity = blp(num_nodes, \n",
    "                                                      neighbors_map, \n",
    "                                                      num_shards, \n",
    "                                                      num_iterations, \n",
    "                                                      epsilon, \n",
    "                                                      return_periodicity = True,\n",
    "                                                      initialization = initialization)"
   ]
  },
  {
   "cell_type": "code",
   "execution_count": 18,
   "metadata": {},
   "outputs": [],
   "source": [
    "if not os.path.exists(initialization_file):\n",
    "    np.savetxt(initialization_file, initialization)"
   ]
  },
  {
   "cell_type": "code",
   "execution_count": 19,
   "metadata": {},
   "outputs": [
    {
     "data": {
      "text/plain": [
       "<matplotlib.legend.Legend at 0x7ff5b846ea60>"
      ]
     },
     "execution_count": 19,
     "metadata": {},
     "output_type": "execute_result"
    },
    {
     "data": {
      "image/png": "[encoded data removed]",
      "text/plain": [
       "<Figure size 432x288 with 1 Axes>"
      ]
     },
     "metadata": {
      "needs_background": "light"
     },
     "output_type": "display_data"
    }
   ],
   "source": [
    "fig, ax = plt.subplots()\n",
    "ax.plot(blpEdgeFracs, marker = '.', label = 'BLP')\n",
    "# ax.set_xlim((-1,num_iterations+0.5))\n",
    "ax.set_ylim((0.0,1.0))\n",
    "ax.set_ylabel('Internal Edge Fraction')\n",
    "ax.set_xlabel('Iteration')\n",
    "ax.legend()"
   ]
  },
  {
   "cell_type": "markdown",
   "metadata": {},
   "source": [
    "### Social Hash"
   ]
  },
  {
   "cell_type": "code",
   "execution_count": 23,
   "metadata": {},
   "outputs": [],
   "source": [
    "%autoreload"
   ]
  },
  {
   "cell_type": "code",
   "execution_count": 20,
   "metadata": {},
   "outputs": [
    {
     "name": "stdout",
     "output_type": "stream",
     "text": [
      "Loading or generating random initialization...\n",
      "Beginning SHP, version I...\n",
      "0: Internal edge fraction =  0.29196696428045665\n",
      "1: Internal edge fraction =  0.4696818502394605\n",
      "2: Internal edge fraction =  0.5578236068689583\n",
      "3: Internal edge fraction =  0.6266391142520783\n",
      "4: Internal edge fraction =  0.6699408562235949\n",
      "5: Internal edge fraction =  0.7046833518218973\n",
      "6: Internal edge fraction =  0.729042959752608\n",
      "7: Internal edge fraction =  0.7561167402208028\n",
      "8: Internal edge fraction =  0.7743341285907185\n",
      "9: Internal edge fraction =  0.7884413030745976\n"
     ]
    }
   ],
   "source": [
    "shpIEdgeFracs, _ = shp(num_nodes, \n",
    "                       neighbors_map,\n",
    "                       num_shards,\n",
    "                       num_iterations,\n",
    "                       initialization = np.loadtxt(initialization_file).astype(np.int32),\n",
    "                       version = 'I')"
   ]
  },
  {
   "cell_type": "code",
   "execution_count": 21,
   "metadata": {},
   "outputs": [
    {
     "name": "stdout",
     "output_type": "stream",
     "text": [
      "Loading or generating random initialization...\n",
      "Beginning SHP, version II...\n",
      "0: Internal edge fraction =  0.2974859025642861\n",
      "1: Internal edge fraction =  0.4574073763708451\n",
      "2: Internal edge fraction =  0.525624062643392\n",
      "3: Internal edge fraction =  0.5611510954304333\n",
      "4: Internal edge fraction =  0.5878769979766006\n",
      "5: Internal edge fraction =  0.6009233259847142\n",
      "6: Internal edge fraction =  0.6160324613585991\n",
      "7: Internal edge fraction =  0.6258582007916941\n",
      "8: Internal edge fraction =  0.6358642207104229\n",
      "9: Internal edge fraction =  0.640777996359059\n"
     ]
    }
   ],
   "source": [
    "shpIIEdgeFracs, _ = shp(num_nodes, \n",
    "                        neighbors_map,\n",
    "                        num_shards,\n",
    "                        num_iterations,\n",
    "                        initialization = np.loadtxt(initialization_file).astype(np.int32),\n",
    "                        version = 'II')"
   ]
  },
  {
   "cell_type": "code",
   "execution_count": 24,
   "metadata": {},
   "outputs": [
    {
     "name": "stdout",
     "output_type": "stream",
     "text": [
      "Loading or generating random initialization...\n",
      "Initializing structures for collecting periodicity data...\n",
      "Beginning SHP, version KL...\n",
      "0: Internal edge fraction =  0.28757047585441853\n",
      "1: Internal edge fraction =  0.4384108864047224\n",
      "2: Internal edge fraction =  0.5008595030690715\n",
      "3: Internal edge fraction =  0.5409723640886708\n",
      "4: Internal edge fraction =  0.5636242900323463\n",
      "5: Internal edge fraction =  0.57955057615016\n",
      "6: Internal edge fraction =  0.5944522530757527\n",
      "7: Internal edge fraction =  0.6042317899723283\n",
      "8: Internal edge fraction =  0.609420063043814\n",
      "9: Internal edge fraction =  0.6153068097556202\n"
     ]
    }
   ],
   "source": [
    "klshpEdgeFracs, klshpPeriodicity = shp(num_nodes, \n",
    "                                       neighbors_map,\n",
    "                                       num_shards,\n",
    "                                       num_iterations,\n",
    "                                       return_periodicity = True,\n",
    "                                       initialization = np.loadtxt(initialization_file).astype(np.int32),\n",
    "                                       version = 'KL')"
   ]
  },
  {
   "cell_type": "code",
   "execution_count": 25,
   "metadata": {},
   "outputs": [
    {
     "data": {
      "image/png": "[encoded data removed]",
      "text/plain": [
       "<Figure size 432x288 with 1 Axes>"
      ]
     },
     "execution_count": 25,
     "metadata": {},
     "output_type": "execute_result"
    }
   ],
   "source": [
    "ax.plot(klshpEdgeFracs, marker = '.', label = 'KLSHP')\n",
    "ax.legend()\n",
    "fig"
   ]
  },
  {
   "cell_type": "markdown",
   "metadata": {},
   "source": [
    "### Restreaming LDG"
   ]
  },
  {
   "cell_type": "code",
   "execution_count": null,
   "metadata": {},
   "outputs": [
    {
     "name": "stdout",
     "output_type": "stream",
     "text": [
      "Initializing structures for collecting periodicity data...\n",
      "Stream order:  random\n",
      "Computing static stream order, or first stream of dynamic order...\n",
      "Beginning reLDG...\n",
      "0: Internal edge fraction =  0.7142065099373955\n",
      "1: Internal edge fraction =  0.8666594796054303\n"
     ]
    }
   ],
   "source": [
    "reldgEdgeFracs, _, reldgPeriodicity = reldg(num_nodes, \n",
    "                                            edges, \n",
    "                                            node_indices, \n",
    "                                            neighbors_map, \n",
    "                                            num_shards, \n",
    "                                            num_iterations, \n",
    "                                            epsilon, \n",
    "                                            return_periodicity=True,\n",
    "                                            version = 'random')"
   ]
  },
  {
   "cell_type": "code",
   "execution_count": null,
   "metadata": {},
   "outputs": [],
   "source": [
    "ax.plot(np.arange(1, num_iterations + 1), reldgEdgeFracs, marker = '.', label = 'reLDG')\n",
    "ax.legend()\n",
    "fig"
   ]
  },
  {
   "cell_type": "code",
   "execution_count": null,
   "metadata": {},
   "outputs": [],
   "source": [
    "bfs_order, _ = bfs_disconnected(data_directory, network, num_nodes, neighbors_map, degrees)"
   ]
  },
  {
   "cell_type": "code",
   "execution_count": null,
   "metadata": {},
   "outputs": [],
   "source": [
    "reldgBFSEdgeFracs, _, _ = reldg(num_nodes, \n",
    "                                edges, \n",
    "                                node_indices, \n",
    "                                neighbors_map, \n",
    "                                num_shards, \n",
    "                                num_iterations, \n",
    "                                epsilon,\n",
    "                                version = 'bfs',\n",
    "                                bfs_order = bfs_order)"
   ]
  },
  {
   "cell_type": "markdown",
   "metadata": {},
   "source": [
    "#### Prioritized Restreaming"
   ]
  },
  {
   "cell_type": "code",
   "execution_count": null,
   "metadata": {},
   "outputs": [],
   "source": [
    "%autoreload"
   ]
  },
  {
   "cell_type": "code",
   "execution_count": null,
   "metadata": {},
   "outputs": [],
   "source": [
    "ccs = compute_clustering_coefficients(data_directory, network, num_nodes, neighbors_map)"
   ]
  },
  {
   "cell_type": "code",
   "execution_count": null,
   "metadata": {},
   "outputs": [],
   "source": [
    "reldgCCEdgeFracs, _, _ = reldg(num_nodes, \n",
    "                                edges, \n",
    "                                node_indices, \n",
    "                                neighbors_map, \n",
    "                                num_shards, \n",
    "                                num_iterations, \n",
    "                                epsilon,\n",
    "                                version = 'cc',\n",
    "                                ccs = ccs)"
   ]
  },
  {
   "cell_type": "code",
   "execution_count": null,
   "metadata": {},
   "outputs": [],
   "source": [
    "reldgDegEdgeFracs, _, _ = reldg(num_nodes, \n",
    "                                edges, \n",
    "                                node_indices, \n",
    "                                neighbors_map, \n",
    "                                num_shards, \n",
    "                                num_iterations, \n",
    "                                epsilon,\n",
    "                                version = 'degree')"
   ]
  },
  {
   "cell_type": "code",
   "execution_count": null,
   "metadata": {},
   "outputs": [],
   "source": [
    "reldgAEdgeFracs, reldgAOrders, _ = reldg(num_nodes, \n",
    "                                         edges, \n",
    "                                         node_indices, \n",
    "                                         neighbors_map, \n",
    "                                         num_shards, \n",
    "                                         num_iterations, \n",
    "                                         epsilon,\n",
    "                                         return_orders = True,\n",
    "                                         version = 'ambivalence')"
   ]
  },
  {
   "cell_type": "code",
   "execution_count": null,
   "metadata": {},
   "outputs": [],
   "source": [
    "ax.plot(np.arange(1, num_iterations + 1), reldgAEdgeFracs, marker = '.', label = 'reLDG-a')\n",
    "ax.legend()\n",
    "fig"
   ]
  },
  {
   "cell_type": "code",
   "execution_count": null,
   "metadata": {},
   "outputs": [],
   "source": [
    "reldgGainEdgeFracs, reldgGainOrders, _ = reldg(num_nodes, \n",
    "                                               edges, \n",
    "                                               node_indices, \n",
    "                                               neighbors_map, \n",
    "                                               num_shards, \n",
    "                                               num_iterations, \n",
    "                                               epsilon,\n",
    "                                               return_orders = True,\n",
    "                                               version = 'gain')"
   ]
  },
  {
   "cell_type": "markdown",
   "metadata": {},
   "source": [
    "## Partition Quality"
   ]
  },
  {
   "cell_type": "markdown",
   "metadata": {},
   "source": [
    "Generates one row of Table 2 in the paper (after only 1 trial)."
   ]
  },
  {
   "cell_type": "code",
   "execution_count": null,
   "metadata": {},
   "outputs": [],
   "source": [
    "fracs = [shpIEdgeFracs[-1], shpIIEdgeFracs[-1], klshpEdgeFracs[-1], blpEdgeFracs[-1], reldgEdgeFracs[-1], reldgBFSEdgeFracs[-1], reldgCCEdgeFracs[-1], reldgDegEdgeFracs[-1], reldgGainEdgeFracs[-1], reldgAEdgeFracs[-1]]\n",
    "print(\"{: <13} {: ^7} {: ^7} {: ^7} {: ^7} | {: ^8} {: ^10} {: ^9} {: ^10} | {: ^8} {: ^8}\".format('', 'shp-I', 'shp-II', 'kl-shp', 'blp', 'reldg', 'reldg-bfs', 'reldg-cc', 'reldg-deg', 'reldg-g', 'reldg-a'))\n",
    "print('{: <13} {: ^7.3f} {: ^7.3f} {: ^7.3f} {: ^7.3f} | {: ^8.3f} {: ^10.3f} {: ^9.3f} {: ^10.3f} | {: ^8.3f} {: ^8.3f}'.format(network, *fracs))"
   ]
  },
  {
   "cell_type": "markdown",
   "metadata": {},
   "source": [
    "## Plots"
   ]
  },
  {
   "cell_type": "markdown",
   "metadata": {},
   "source": [
    "### Period plots"
   ]
  },
  {
   "cell_type": "code",
   "execution_count": null,
   "metadata": {},
   "outputs": [],
   "source": [
    "periodicities = [blpPeriodicity, klshpPeriodicity, reldgPeriodicity]\n",
    "titles = ['BLP', 'KLSHP', 'reLDG']\n",
    "period_data = []\n",
    "for data in periodicities:\n",
    "    new_row = np.sum(data[3:, :], axis=0) # sum periods >3\n",
    "    data = np.concatenate((data[0:3,:], [new_row]), axis=0)\n",
    "    data /= np.sum(data, axis=0)[None,:] # normalize\n",
    "    y = data.tolist()\n",
    "    y.append(y[0]) # put period 0 nodes at the end (for plot legend)\n",
    "    period_data.append(y)\n",
    "\n",
    "fig, ax = plt.subplots(1, 3, figsize = (13, 4), sharey=True)\n",
    "x = range(1, num_iterations+1)\n",
    "for i, title in enumerate(titles):\n",
    "    ax[i].grid(linestyle=':', color='grey')\n",
    "    ax[i].stackplot(x, period_data[i][1:], labels=['period 1', 'period 2', 'period $\\geq 3$', 'new'])\n",
    "    ax[i].set_title(title)\n",
    "    ax[i].set_xticks([1,2,3,4,5,6,7,8,9,10])\n",
    "    ax[i].set_xlabel('Iteration')\n",
    "    if i==0:\n",
    "        ax[i].set_ylabel('Nodes at period')\n",
    "    if i==1:\n",
    "        # Put a legend below current axis\n",
    "        ax[i].legend(loc='upper center', bbox_to_anchor=(0.5, -0.2), ncol=4)"
   ]
  },
  {
   "cell_type": "markdown",
   "metadata": {},
   "source": [
    "### Internal edge fraction vs incumbency parameter"
   ]
  },
  {
   "cell_type": "code",
   "execution_count": null,
   "metadata": {},
   "outputs": [],
   "source": [
    "# Shell script to run each method with c=[-10,10]\n",
    "if not os.path.exists('../results/web-NotreDame_c_finalFrac.txt'):\n",
    "    !bash incumbency.sh web-NotreDame"
   ]
  },
  {
   "cell_type": "code",
   "execution_count": null,
   "metadata": {},
   "outputs": [],
   "source": [
    "data = np.loadtxt('../results/web-NotreDame_c_finalFrac.txt')"
   ]
  },
  {
   "cell_type": "code",
   "execution_count": null,
   "metadata": {},
   "outputs": [],
   "source": [
    "fig = plt.figure()\n",
    "ax = fig.add_subplot(111)\n",
    "ax.scatter(np.array(data)[:,0], np.array(data)[:,1], marker='.', label='BLP')\n",
    "ax.scatter(np.array(data)[:,0], np.array(data)[:,2], marker='.', label='KL-SHP')\n",
    "ax.scatter(np.array(data)[:,0], np.array(data)[:,3], marker='.', label='reLDG')\n",
    "ax.set_title('web-NotreDame')\n",
    "ax.set_xlabel(r'Gain threshold, $c$')\n",
    "ax.set_ylabel('Final internal edge fraction')\n",
    "ax.set_ylim((0.0,1.0))\n",
    "ax.set_xticks([-10, 0, 10])"
   ]
  },
  {
   "cell_type": "markdown",
   "metadata": {},
   "source": [
    "### Rank correlation matrix of stream orders"
   ]
  },
  {
   "cell_type": "code",
   "execution_count": null,
   "metadata": {},
   "outputs": [],
   "source": [
    "data = [ccs, bfs_order, degrees]\n",
    "assert(len(reldgAOrders) == 2)\n",
    "assert(len(reldgGainOrders) == 2)\n",
    "data.extend(reldgAOrders)\n",
    "data.extend(reldgGainOrders)\n",
    "labels = ['CC', 'BFS', 'Deg', 'Amb-2', 'Amb-10', 'Gain-2', 'Gain-10']\n",
    "\n",
    "orders = []\n",
    "orders.append(data[0])\n",
    "orders.append(-np.argsort(data[1]))\n",
    "orders.append(data[2])\n",
    "orders.append(-data[3])\n",
    "orders.append(-data[4])\n",
    "orders.append(data[5])\n",
    "orders.append(data[6])"
   ]
  },
  {
   "cell_type": "code",
   "execution_count": null,
   "metadata": {},
   "outputs": [],
   "source": [
    "# Computing kendall tau correlations\n",
    "taus = np.zeros((len(orders), len(orders)))\n",
    "for i in range(len(orders)):\n",
    "    for j in range(i+1):\n",
    "        tau = weightedtau(orders[i], orders[j])[0]\n",
    "        taus[i,j] = tau\n",
    "        if i != j:\n",
    "            taus[j,i] = tau\n",
    "print(\"Done.\")"
   ]
  },
  {
   "cell_type": "code",
   "execution_count": null,
   "metadata": {},
   "outputs": [],
   "source": [
    "# Plotting kendall tau heat map\n",
    "fig = plt.figure()\n",
    "ax = sns.heatmap(taus, annot=True, square=True, xticklabels=labels, yticklabels=labels, cbar=False, center=0.0)\n",
    "ax.tick_params(axis='both', which='major')\n",
    "ax.set_xticks(np.arange(len(labels))+0.5)\n",
    "ax.set_yticks(np.arange(len(labels))+0.5)\n",
    "ax.set_title(network)"
   ]
  },
  {
   "cell_type": "code",
   "execution_count": null,
   "metadata": {},
   "outputs": [],
   "source": []
  }
 ],
 "metadata": {
  "kernelspec": {
   "display_name": "Python 3",
   "language": "python",
   "name": "python3"
  },
  "language_info": {
   "codemirror_mode": {
    "name": "ipython",
    "version": 3
   },
   "file_extension": ".py",
   "mimetype": "text/x-python",
   "name": "python",
   "nbconvert_exporter": "python",
   "pygments_lexer": "ipython3",
   "version": "3.8.1"
  }
 },
 "nbformat": 4,
 "nbformat_minor": 4
}
