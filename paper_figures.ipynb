{
 "cells": [
  {
   "cell_type": "markdown",
   "metadata": {},
   "source": [
    "# Prioritized Restreaming Algorithms for Balanced Graph Partitioning"
   ]
  },
  {
   "cell_type": "markdown",
   "metadata": {},
   "source": [
    "This notebook walks through the generation of all plots in the paper for a chosen test network."
   ]
  },
  {
   "cell_type": "markdown",
   "metadata": {},
   "source": [
    "## Importing modules"
   ]
  },
  {
   "cell_type": "code",
   "execution_count": null,
   "metadata": {},
   "outputs": [],
   "source": [
    "import numpy as np\n",
    "import networkx as nx\n",
    "import os\n",
    "from copy import deepcopy\n",
    "from collections import defaultdict\n",
    "\n",
    "import readdata\n",
    "import lpbuilder\n",
    "import shardmap\n",
    "\n",
    "from blp import *\n",
    "from shp import *\n",
    "from reldg import *\n"
   ]
  },
  {
   "cell_type": "markdown",
   "metadata": {},
   "source": [
    "## Macros"
   ]
  },
  {
   "cell_type": "code",
   "execution_count": null,
   "metadata": {},
   "outputs": [],
   "source": [
    "edge_dict = {\n",
    "    'wiki-Vote': 103689, \n",
    "    'email-Enron': 367662, \n",
    "    'soc-Pokec': 30622564,\n",
    "    'com-LiveJournal': 68993773,\n",
    "    'com-Orkut': 117185083, \n",
    "    'web-NotreDame': 1497134, \n",
    "    'web-Stanford': 2312497, \n",
    "    'web-Google': 5105039, \n",
    "    'web-BerkStan': 7600595\n",
    "} # hardcoded for now"
   ]
  },
  {
   "cell_type": "code",
   "execution_count": null,
   "metadata": {},
   "outputs": [],
   "source": [
    "edge_list = \"web-NotreDame\"\n",
    "num_edges = edges_dict[edge_list]\n",
    "num_shards = 16\n",
    "num_iterations = 10\n",
    "epsilon = 0.0"
   ]
  },
  {
   "cell_type": "markdown",
   "metadata": {},
   "source": [
    "## Load network"
   ]
  },
  {
   "cell_type": "markdown",
   "metadata": {},
   "source": [
    "Nodes must be labelled 0...n-1."
   ]
  },
  {
   "cell_type": "markdown",
   "metadata": {},
   "source": [
    "## Running methods"
   ]
  },
  {
   "cell_type": "code",
   "execution_count": null,
   "metadata": {},
   "outputs": [],
   "source": [
    "blp(nodes, \n",
    "    neighbors_map, \n",
    "    num_shards, \n",
    "    num_iterations, \n",
    "    epsilon = 0.0, \n",
    "    c = 0,\n",
    "    return_periodicity = False,\n",
    "    initialization = None)"
   ]
  },
  {
   "cell_type": "code",
   "execution_count": null,
   "metadata": {},
   "outputs": [],
   "source": [
    "klshp(nodes, \n",
    "    neighbors_map,\n",
    "    num_shards,\n",
    "    num_iterations,\n",
    "    epsilon = 0.0,\n",
    "    c = -np.inf,\n",
    "    return_periodicity=False, \n",
    "    initialization = None)\n",
    "\n",
    "shp2(nodes, \n",
    "    neighbors_map,\n",
    "    num_shards,\n",
    "    num_iterations,\n",
    "    epsilon = 0.0,\n",
    "    c = -np.inf,\n",
    "    return_periodicity=False, \n",
    "    initialization = None)\n",
    "\n",
    "shp1(nodes, \n",
    "    neighbors_map,\n",
    "    num_shards,\n",
    "    num_iterations,\n",
    "    epsilon = 0.0,\n",
    "    c = -np.inf,\n",
    "    return_periodicity=False, \n",
    "    initialization = None)"
   ]
  },
  {
   "cell_type": "code",
   "execution_count": null,
   "metadata": {},
   "outputs": [],
   "source": [
    "reldg()"
   ]
  },
  {
   "cell_type": "markdown",
   "metadata": {},
   "source": [
    "## Plots"
   ]
  },
  {
   "cell_type": "markdown",
   "metadata": {},
   "source": [
    "### Internal edge fraction vs iteration"
   ]
  },
  {
   "cell_type": "code",
   "execution_count": null,
   "metadata": {},
   "outputs": [],
   "source": [
    "blp_path = './results/blp/' + edge_list + '_' + str(num_iterations) + 'iters_' + str(num_shards) + 'shards'\n",
    "shp_path = './results/klshp/' + edge_list + '_' + str(num_iterations) + 'iters_' + str(num_shards) + 'shards'\n",
    "reldg_path = './results/reldg/' + edge_list + '_' + str(num_iterations) + 'iters_' + str(num_shards) + 'shards'\n",
    "reldg_a_path = './results/reldg/' + edge_list + '_' + str(num_iterations) + 'iters_' + str(num_shards) + 'shards'"
   ]
  },
  {
   "cell_type": "markdown",
   "metadata": {},
   "source": [
    "### Internal edge fraction vs incumbency parameter"
   ]
  },
  {
   "cell_type": "markdown",
   "metadata": {},
   "source": [
    "### Period plots"
   ]
  },
  {
   "cell_type": "markdown",
   "metadata": {},
   "source": [
    "### Rank correlation matrix of stream orders"
   ]
  },
  {
   "cell_type": "code",
   "execution_count": null,
   "metadata": {},
   "outputs": [],
   "source": []
  }
 ],
 "metadata": {
  "kernelspec": {
   "display_name": "Python 3",
   "language": "python",
   "name": "python3"
  },
  "language_info": {
   "codemirror_mode": {
    "name": "ipython",
    "version": 3
   },
   "file_extension": ".py",
   "mimetype": "text/x-python",
   "name": "python",
   "nbconvert_exporter": "python",
   "pygments_lexer": "ipython3",
   "version": "3.8.1"
  }
 },
 "nbformat": 4,
 "nbformat_minor": 4
}
