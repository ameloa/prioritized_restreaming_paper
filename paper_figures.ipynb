{
 "cells": [
  {
   "cell_type": "markdown",
   "metadata": {},
   "source": [
    "# Prioritized Restreaming Algorithms for Balanced Graph Partitioning"
   ]
  },
  {
   "cell_type": "markdown",
   "metadata": {},
   "source": [
    "This notebook walks through the generation of all plots in the paper for a chosen test network."
   ]
  },
  {
   "cell_type": "markdown",
   "metadata": {},
   "source": [
    "## Importing modules"
   ]
  },
  {
   "cell_type": "code",
   "execution_count": null,
   "metadata": {},
   "outputs": [],
   "source": [
    "# General modules\n",
    "import numpy as np\n",
    "import networkx as nx\n",
    "import os\n",
    "from copy import deepcopy\n",
    "from collections import defaultdict\n",
    "from scipy.stats import weightedtau\n",
    "\n",
    "# Methods\n",
    "import readdata\n",
    "import lpbuilder\n",
    "import shardmap\n",
    "from blp import *\n",
    "from shp import *\n",
    "from reldg import *\n",
    "\n",
    "# Plotting\n",
    "import matplotlib\n",
    "matplotlib.use('Agg')\n",
    "import matplotlib.pyplot as plt\n",
    "plt.rc('text', usetex=True)\n",
    "import seaborn as sns"
   ]
  },
  {
   "cell_type": "markdown",
   "metadata": {},
   "source": [
    "## Input parameters"
   ]
  },
  {
   "cell_type": "code",
   "execution_count": null,
   "metadata": {},
   "outputs": [],
   "source": [
    "edge_dict = {\n",
    "    'wiki-Vote': 103689, \n",
    "    'email-Enron': 367662, \n",
    "    'soc-Pokec': 30622564,\n",
    "    'com-LiveJournal': 68993773,\n",
    "    'com-Orkut': 117185083, \n",
    "    'web-NotreDame': 1497134, \n",
    "    'web-Stanford': 2312497, \n",
    "    'web-Google': 5105039, \n",
    "    'web-BerkStan': 7600595\n",
    "} # hardcoded for now"
   ]
  },
  {
   "cell_type": "code",
   "execution_count": null,
   "metadata": {},
   "outputs": [],
   "source": [
    "edge_list = \"web-NotreDame\"\n",
    "num_edges = edges_dict[edge_list]\n",
    "num_shards = 16\n",
    "num_iterations = 10\n",
    "epsilon = 0.0"
   ]
  },
  {
   "cell_type": "markdown",
   "metadata": {},
   "source": [
    "## Load network"
   ]
  },
  {
   "cell_type": "markdown",
   "metadata": {},
   "source": [
    "Nodes must be labelled 0...n-1."
   ]
  },
  {
   "cell_type": "markdown",
   "metadata": {},
   "source": [
    "## Running methods"
   ]
  },
  {
   "cell_type": "code",
   "execution_count": null,
   "metadata": {},
   "outputs": [],
   "source": [
    "blp(nodes, \n",
    "    neighbors_map, \n",
    "    num_shards, \n",
    "    num_iterations, \n",
    "    epsilon = 0.0, \n",
    "    c = 0,\n",
    "    return_periodicity = False,\n",
    "    initialization = None)"
   ]
  },
  {
   "cell_type": "code",
   "execution_count": null,
   "metadata": {},
   "outputs": [],
   "source": [
    "klshp(nodes, \n",
    "    neighbors_map,\n",
    "    num_shards,\n",
    "    num_iterations,\n",
    "    epsilon = 0.0,\n",
    "    c = -np.inf,\n",
    "    return_periodicity=False, \n",
    "    initialization = None)\n",
    "\n",
    "shp2(nodes, \n",
    "    neighbors_map,\n",
    "    num_shards,\n",
    "    num_iterations,\n",
    "    epsilon = 0.0,\n",
    "    c = -np.inf,\n",
    "    return_periodicity=False, \n",
    "    initialization = None)\n",
    "\n",
    "shp1(nodes, \n",
    "    neighbors_map,\n",
    "    num_shards,\n",
    "    num_iterations,\n",
    "    epsilon = 0.0,\n",
    "    c = -np.inf,\n",
    "    return_periodicity=False, \n",
    "    initialization = None)"
   ]
  },
  {
   "cell_type": "code",
   "execution_count": null,
   "metadata": {},
   "outputs": [],
   "source": [
    "reldg(i, \n",
    "      edge_list, \n",
    "      edges, \n",
    "      neighborsMap, \n",
    "      node_indices, \n",
    "      num_nodes, \n",
    "      hashMap, \n",
    "      num_partitions=16, \n",
    "      num_iterations=10, \n",
    "      eps=0.0, \n",
    "      degree_first_step=False, \n",
    "      sort_type_value=1, \n",
    "      periodicity=False, \n",
    "      gain_histogram=False, \n",
    "      amb_histogram=False, \n",
    "      amb_deg_histogram=False, \n",
    "      thresholding=False, \n",
    "      c=-np.inf, \n",
    "      assignments=None)"
   ]
  },
  {
   "cell_type": "markdown",
   "metadata": {},
   "source": [
    "## Plots"
   ]
  },
  {
   "cell_type": "markdown",
   "metadata": {},
   "source": [
    "### Internal edge fraction vs iteration"
   ]
  },
  {
   "cell_type": "code",
   "execution_count": null,
   "metadata": {},
   "outputs": [],
   "source": [
    "blp_path = './results/blp/' + edge_list + '_' + str(num_iterations) + 'iters_' + str(num_shards) + 'shards'\n",
    "shp_path = './results/klshp/' + edge_list + '_' + str(num_iterations) + 'iters_' + str(num_shards) + 'shards'\n",
    "reldg_path = './results/reldg/' + edge_list + '_' + str(num_iterations) + 'iters_' + str(num_shards) + 'shards'\n",
    "reldg_a_path = './results/reldg/' + edge_list + '_' + str(num_iterations) + 'iters_' + str(num_shards) + 'shards'"
   ]
  },
  {
   "cell_type": "markdown",
   "metadata": {},
   "source": [
    "### Internal edge fraction vs incumbency parameter"
   ]
  },
  {
   "cell_type": "markdown",
   "metadata": {},
   "source": [
    "### Period plots"
   ]
  },
  {
   "cell_type": "markdown",
   "metadata": {},
   "source": [
    "### Rank correlation matrix of stream orders"
   ]
  },
  {
   "cell_type": "code",
   "execution_count": null,
   "metadata": {},
   "outputs": [],
   "source": []
  }
 ],
 "metadata": {
  "kernelspec": {
   "display_name": "Python 3",
   "language": "python",
   "name": "python3"
  },
  "language_info": {
   "codemirror_mode": {
    "name": "ipython",
    "version": 3
   },
   "file_extension": ".py",
   "mimetype": "text/x-python",
   "name": "python",
   "nbconvert_exporter": "python",
   "pygments_lexer": "ipython3",
   "version": "3.8.1"
  }
 },
 "nbformat": 4,
 "nbformat_minor": 4
}
